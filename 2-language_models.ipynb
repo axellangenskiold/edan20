{
  "cells": [
    {
      "cell_type": "markdown",
      "metadata": {
        "id": "oI9GDzMcuZ0o"
      },
      "source": [
        "# Assignment #2: Language models\n",
        "Author: Pierre Nugues"
      ]
    },
    {
      "cell_type": "markdown",
      "metadata": {
        "id": "iOxqOmDHuZ0p"
      },
      "source": [
        "## Objectives"
      ]
    },
    {
      "cell_type": "markdown",
      "metadata": {
        "id": "U34PfEaVuZ0p"
      },
      "source": [
        "The objectives of this assignment are to:\n",
        "* Write a program to find n-gram statistics\n",
        "* Compute the probability of a sentence\n",
        "* Know what a language model is\n",
        "* Write a short report of 1 to 2 pages on the assignment"
      ]
    },
    {
      "cell_type": "markdown",
      "metadata": {
        "id": "F6mt3Y0auZ0p"
      },
      "source": [
        "## Submission"
      ]
    },
    {
      "cell_type": "markdown",
      "metadata": {
        "id": "4Ch8rvYGuZ0q"
      },
      "source": [
        "Once you have written all the missing code and run all the cells, you will show it to an instructor that will pass you."
      ]
    },
    {
      "cell_type": "markdown",
      "metadata": {
        "id": "CKnPN42MuZ0q"
      },
      "source": [
        "## Organization"
      ]
    },
    {
      "cell_type": "markdown",
      "metadata": {
        "id": "Roeanq5ruZ0q"
      },
      "source": [
        "* Each group will have to write Python programs to count unigrams, bigrams, and trigrams in a corpus of approximately one million words and to determine the probability of a sentence.\n",
        "* You can test you regular expression using the regex101.com site\n",
        "* Each student will have to write a short report of one to two pages and comment briefly the results. In your report, you must produce the tabulated results of your analysis as described below."
      ]
    },
    {
      "cell_type": "markdown",
      "metadata": {
        "id": "V29upmHLuZ0q"
      },
      "source": [
        "## Programming"
      ]
    },
    {
      "cell_type": "markdown",
      "metadata": {
        "id": "JcGLNs4IuZ0q"
      },
      "source": [
        "### Imports"
      ]
    },
    {
      "cell_type": "markdown",
      "metadata": {
        "id": "rJxQ0bPMuZ0q"
      },
      "source": [
        "Some imports you may need. Add others as needed."
      ]
    },
    {
      "cell_type": "code",
      "execution_count": 1,
      "metadata": {
        "id": "kQY7mq4LuZ0q"
      },
      "outputs": [],
      "source": [
        "import bz2\n",
        "import math\n",
        "import os\n",
        "import regex as re\n",
        "import requests\n",
        "import sys\n",
        "from zipfile import ZipFile"
      ]
    },
    {
      "cell_type": "markdown",
      "metadata": {
        "id": "pGOuhbEpuZ0r"
      },
      "source": [
        "### Collecting and analyzing a corpus"
      ]
    },
    {
      "cell_type": "markdown",
      "metadata": {
        "id": "zHr71WqzuZ0r"
      },
      "source": [
        "Retrieve a corpus of novels by Selma Lagerl&ouml;f from this URL:\n",
        "<a href=\"https://github.com/pnugues/ilppp/blob/master/programs/corpus/Selma.txt\">\n",
        "    <tt>https://github.com/pnugues/ilppp/blob/master/programs/corpus/Selma.txt</tt>\n",
        "</a>. The text of these novels was extracted\n",
        "from <a href=\"https://litteraturbanken.se/forfattare/LagerlofS/titlar\">Lagerlöf arkivet</a> at\n",
        "<a href=\"https://litteraturbanken.se/\">Litteraturbanken</a>."
      ]
    },
    {
      "cell_type": "code",
      "execution_count": null,
      "metadata": {
        "id": "khD78FE8uZ0r"
      },
      "outputs": [],
      "source": [
        "# You may have to adjust the path\n",
        "corpus = open('../../../corpus/Selma.txt', encoding='utf8').read()"
      ]
    },
    {
      "cell_type": "markdown",
      "metadata": {
        "id": "bu8Q9lfCuZ0r"
      },
      "source": [
        "Run the <a href=\"https://github.com/pnugues/ilppp/tree/master/programs/ch02/python\">concordance\n",
        "program </a> to print the lines containing a specific word, for instance <i>Nils</i>."
      ]
    },
    {
      "cell_type": "code",
      "execution_count": null,
      "metadata": {
        "id": "5ycs8gIYuZ0r"
      },
      "outputs": [],
      "source": [
        "pattern = 'Nils Holgersson'\n",
        "width = 25"
      ]
    },
    {
      "cell_type": "code",
      "execution_count": null,
      "metadata": {
        "id": "9RbaH8JDuZ0r",
        "outputId": "9097ef06-5e05-4f1a-aa62-c071a310294d"
      },
      "outputs": [
        {
          "name": "stdout",
          "output_type": "stream",
          "text": [
            "Selma Lagerlöf Nils Holgerssons underbara resa genom Sv\n",
            "! Se på Tummetott! Se på Nils Holgersson Tummetott!» Genast vände\n",
            "r,» sade han. »Jag heter Nils Holgersson och är son till en husma\n",
            "lden. »Inte är det värt, Nils Holgersson, att du är ängslig eller\n",
            " i dem. På den tiden, då Nils Holgersson drog omkring med vildgäs\n",
            "ulle allt visa honom vad Nils Holgersson från Västra Vemmenhög va\n",
            "om ägde rum det året, då Nils Holgersson for omkring med vildgäss\n",
            "m vad det kan kosta dem. Nils Holgersson hade inte haft förstånd \n",
            "de det inte mer sägas om Nils Holgersson, att han inte tyckte om \n",
            " Rosenbom?» För där stod Nils Holgersson mitt uppe på Rosenboms n\n",
            " Med ens fingo de syn på Nils Holgersson, och då sköt den store v\n",
            "vila. När vildgässen och Nils Holgersson äntligen hade letat sig \n",
            " slags arbetare. Men vad Nils Holgersson inte såg, det var, att s\n",
            "nde han fråga, och om då Nils Holgersson sade nej, började han ge\n",
            "de lille Mats, och om nu Nils Holgersson också hade tegat, så had\n",
            "åg så försmädlig ut, att Nils Holgersson kastade sig över honom f\n",
            " brodern. Och inte ville Nils Holgersson slåss med en tös, utan h\n",
            "örkar. På den tiden, när Nils Holgersson for omkring med vildgäss\n",
            " ryckte omkull honom. Om Nils Holgersson genast hade ropat på hjä\n",
            "u reda dig på egen hand, Nils Holgersson,» sade han då till sig s\n",
            "r satte Fumle-Drumle ner Nils Holgersson på bottnen av en sandgro\n",
            "mlingarna. – »Jo, jag är Nils Holgersson från Västra Vemmenhög, s\n",
            "rakten. På den tiden, då Nils Holgersson for omkring med vildgäss\n",
            "Jo, det står – Det står: Nils Holgersson fr. V. Vemmenhög.» »Det \n",
            "visan 1 Sveriges karta 2 Nils Holgerssons underbara resa genom Sv\n",
            "admalsvåden 233 ________ Nils Holgerssons underbara resa genom Sv\n",
            "R. Tolv år ungefär innan Nils Holgersson hade börjat resa omkring\n",
            "och leta efter föda, men Nils Holgersson hade på morgonen tappat \n",
            "ill i Närke det året, då Nils Holgersson for fram över landskapet\n",
            "hade flyttat tassen över Nils Holgerssons ansikte, så att den sta\n",
            "29 april. Denna dag fick Nils Holgersson se södra Dalarna. Vildgä\n",
            "rliga sjön. Det året, då Nils Holgersson for med vildgässen genom\n",
            "t skänka upptäckten till Nils Holgersson. Det var ju både det tro\n",
            " som sången varade, stod Nils Holgersson och lyssnade till den, m\n",
            "ova på en vassrugge. Vad Nils Holgersson angår, så var han för hu\n",
            "e svårt för en sådan som Nils Holgersson att finna en farkost. Ha\n",
            "r de hade kommit mittför Nils Holgersson, slogo de sig ner på ett\n",
            " 5 maj. På den tiden, då Nils Holgersson drog genom landet med vi\n",
            "an vara bra lycklig. Att Nils Holgersson, som för ett par timmar \n",
            " afton. Och således hade Nils Holgersson fått se studenterna, när\n",
            "nger under marschen. Men Nils Holgersson hade tyckt, att det inte\n",
            "och glädja så som dessa. Nils Holgersson hade mest sett på studen\n",
            "m, stannade han. »Jag är Nils Holgersson från Västra Vemmenhög,» \n",
            " Ett par år före det, då Nils Holgersson drog omkring med vildgäs\n",
            " detsamma fattade han om Nils Holgersson med sin stora fot, höjde\n",
            "t ingen mer än den lilla Nils Holgersson, som följde henne. Solen\n",
            " voro klädda med is, och Nils Holgersson ville följa henne dit in\n",
            "t Lappland är mitt!» Men Nils Holgersson hade blivit så ängslig, \n",
            " över klippväggarna, och Nils Holgersson kunde förstå, att det va\n",
            " SJUKDOMEN. Det året, då Nils Holgersson for omkring med vildgäss\n",
            "jligt att undgå den. Vad Nils Holgersson beträffar, så hade han h\n",
            "hade hon slagit klorna i Nils Holgerssons skuldra och hackade eft\n",
            "g, att just det året, då Nils Holgersson for omkring med vildgäss\n",
            " lönt att vara bedrövad, Nils Holgersson,» sade solen. »Världen ä\n",
            "åga om han inte kunde ge Nils Holgersson bättre villkor. ’Det öns\n",
            "du vill,’ sade han. ’Med Nils Holgersson blir det ändå så, som ja\n",
            "a haft av honom. Ja, säg Nils Holgersson, att föräldrarna redan h\n",
            "Västergötland. Den lille Nils Holgersson hade krupit upp på en la\n",
            " honom sämre.» Den lille Nils Holgersson hade följt med barnen he\n",
            "e bara störa.» Då tyckte Nils Holgersson, att när ingen annan gjo\n",
            "n färdig att följa det.» Nils Holgersson sprang raskt neråt vägen\n",
            "rott mellan de unga. Vad Nils Holgersson beträffar, så hade han i\n",
            "on gav sig tid att se på Nils Holgersson, innan hon stötte till. \n",
            " ändå alldeles olik. Den Nils Holgersson, som hade farit bort i v\n",
            " tro det. Välkommen hem, Nils Holgersson, välkommen hem! Det här \n",
            "mig här på gården,» sade Nils Holgersson. »Min egen mor tror, att\n",
            "on riktig sjukdom,» sade Nils Holgersson. »Jag får försöka ställa\n",
            "in kniv här på din hov?» Nils Holgersson var nätt och jämnt färdi\n",
            "sslingen, som var så lik Nils Holgersson, att om det inte var han\n",
            "pojken fanns i närheten. Nils Holgersson hörde honom nog, men han\n",
            "ottrar ihop ett tack för Nils Holgersson? Vad skulle det ha blivi\n"
          ]
        }
      ],
      "source": [
        "# spaces match tabs and newlines\n",
        "pattern = re.sub(' ', r'\\\\s+', pattern)\n",
        "# Replaces newlines with spaces in the text\n",
        "clean_corpus = re.sub(r'\\s+', ' ', corpus)\n",
        "concordance = ('(.{{0,{width}}}{pattern}.{{0,{width}}})'\n",
        "               .format(pattern=pattern, width=width))\n",
        "for match in re.finditer(concordance, clean_corpus):\n",
        "    print(match.group(1))\n",
        "# print the string with 0..width characters on either side"
      ]
    },
    {
      "cell_type": "markdown",
      "metadata": {
        "id": "eqscNIoXuZ0s"
      },
      "source": [
        "Run a simple <a href=\"https://github.com/pnugues/ilppp/tree/master/programs/ch05/python\">tokenization\n",
        "program</a> on your corpus."
      ]
    },
    {
      "cell_type": "code",
      "execution_count": null,
      "metadata": {
        "id": "0GcsumrJuZ0s"
      },
      "outputs": [],
      "source": [
        "def tokenize(text):\n",
        "    words = re.findall(r'\\p{L}+', text)\n",
        "    return words"
      ]
    },
    {
      "cell_type": "code",
      "execution_count": null,
      "metadata": {
        "id": "-kxfx1sBuZ0s",
        "outputId": "be3074e3-72d7-470b-c7aa-10c070da5ded"
      },
      "outputs": [
        {
          "data": {
            "text/plain": [
              "['Selma',\n",
              " 'Lagerlöf',\n",
              " 'Nils',\n",
              " 'Holgerssons',\n",
              " 'underbara',\n",
              " 'resa',\n",
              " 'genom',\n",
              " 'Sverige',\n",
              " 'Första',\n",
              " 'bandet']"
            ]
          },
          "execution_count": 6,
          "metadata": {},
          "output_type": "execute_result"
        }
      ],
      "source": [
        "words = tokenize(corpus)\n",
        "words[:10]"
      ]
    },
    {
      "cell_type": "markdown",
      "metadata": {
        "id": "wWP40ElfuZ0s"
      },
      "source": [
        "Count the number of unique words in the original corpus and when setting all the words in lowercase"
      ]
    },
    {
      "cell_type": "markdown",
      "metadata": {
        "id": "F_NqDC3RuZ0s"
      },
      "source": [
        "Original text"
      ]
    },
    {
      "cell_type": "code",
      "execution_count": null,
      "metadata": {
        "id": "060QQ60QuZ0s",
        "outputId": "76b7df47-10fe-46b7-e921-96e77f916f10"
      },
      "outputs": [
        {
          "data": {
            "text/plain": [
              "44256"
            ]
          },
          "execution_count": 7,
          "metadata": {},
          "output_type": "execute_result"
        }
      ],
      "source": [
        "# Write your code here\n"
      ]
    },
    {
      "cell_type": "markdown",
      "metadata": {
        "id": "Q75LgBqouZ0s"
      },
      "source": [
        "Lowercased text"
      ]
    },
    {
      "cell_type": "code",
      "execution_count": null,
      "metadata": {
        "id": "I0pkUpK2uZ0s",
        "outputId": "b62d1659-79d2-49fb-804a-c036a865270a"
      },
      "outputs": [
        {
          "data": {
            "text/plain": [
              "41032"
            ]
          },
          "execution_count": 8,
          "metadata": {},
          "output_type": "execute_result"
        }
      ],
      "source": [
        "# Write your code here\n"
      ]
    },
    {
      "cell_type": "markdown",
      "metadata": {
        "id": "r8grF-n6uZ0t"
      },
      "source": [
        "### Segmenting a corpus"
      ]
    },
    {
      "cell_type": "markdown",
      "metadata": {
        "id": "wF1DHAp-uZ0t"
      },
      "source": [
        "You will write a program to tokenize your text, insert `<s>` and `</s>` tags to delimit sentences, and set all the words in lowercase letters. In the end, you will only keep the words."
      ]
    },
    {
      "cell_type": "markdown",
      "metadata": {
        "id": "8MONFcvDuZ0t"
      },
      "source": [
        "#### Normalizing"
      ]
    },
    {
      "cell_type": "markdown",
      "metadata": {
        "id": "X8YGzWAduZ0t"
      },
      "source": [
        "Write a regular expression that matches all the characters that are neither a letter nor a punctuation sign. The punctuations signs will be the followings: `.;:?!`. In your regex, use the same order. For the definition of a letter, use a Unicode regex. You will call the regex string `nonletter`"
      ]
    },
    {
      "cell_type": "code",
      "execution_count": null,
      "metadata": {
        "id": "PGIqKRyhuZ0t"
      },
      "outputs": [],
      "source": [
        "# Write your code\n"
      ]
    },
    {
      "cell_type": "markdown",
      "metadata": {
        "id": "DGjM3LckuZ0t"
      },
      "source": [
        "Write a `clean()` function that replaces all the characters that are neither a letter nor a punctuation sign with a space. The punctuations signs will be the followings: `.;:?!`.   For the sentence:\n",
        "\n",
        "_En gång hade de på Mårbacka en barnpiga, som hette Back-Kajsa._\n",
        "\n",
        "the result will be:\n",
        "\n",
        "`En gång hade de på Mårbacka en barnpiga som hette Back Kajsa.`"
      ]
    },
    {
      "cell_type": "code",
      "execution_count": null,
      "metadata": {
        "id": "0USgX51iuZ0t"
      },
      "outputs": [],
      "source": [
        "# Write your code here\n",
        "def clean(text):\n"
      ]
    },
    {
      "cell_type": "code",
      "execution_count": null,
      "metadata": {
        "id": "LJx2NsXVuZ0t"
      },
      "outputs": [],
      "source": [
        "test_para = 'En gång hade de på Mårbacka en barnpiga, som hette Back-Kajsa. \\\n",
        "Hon var nog sina tre alnar lång, hon hade ett stort, grovt ansikte med stränga, mörka drag, \\\n",
        "hennes händer voro hårda och fulla av sprickor, som barnens hår fastnade i, \\\n",
        "när hon kammade dem, och till humöret var hon dyster och sorgbunden.'"
      ]
    },
    {
      "cell_type": "code",
      "execution_count": null,
      "metadata": {
        "id": "d4TOpT8VuZ0t",
        "outputId": "a103b6a8-926b-4c01-a492-1f6c6225d288"
      },
      "outputs": [
        {
          "data": {
            "text/plain": [
              "'En gång hade de på Mårbacka en barnpiga som hette Back Kajsa. Hon var nog sina tre alnar lång hon hade ett stort grovt ansikte med stränga mörka drag hennes händer voro hårda och fulla av sprickor som barnens hår fastnade i när hon kammade dem och till humöret var hon dyster och sorgbunden.'"
            ]
          },
          "execution_count": 12,
          "metadata": {},
          "output_type": "execute_result"
        }
      ],
      "source": [
        "test_para = clean(test_para)\n",
        "test_para"
      ]
    },
    {
      "cell_type": "code",
      "execution_count": null,
      "metadata": {
        "id": "zcDpMA8XuZ0t",
        "outputId": "362f7296-8272-45fa-8354-633bc6911e9b"
      },
      "outputs": [
        {
          "name": "stdout",
          "output_type": "stream",
          "text": [
            "Selma Lagerlöf\n",
            "\n",
            "\n",
            "Nils Holgerssons underbara resa genom Sverige. Första bandet\n",
            "\n",
            "\n",
            "\n",
            "\n",
            "\n",
            "Bokutgåva\n",
            "\n",
            "\n",
            "Albert Bonniers förlag, Stockholm 1907.\n",
            "\n",
            "\n",
            "\n",
            "\n",
            "DEN KRISTLIGA DAGVISAN.\n",
            "\n",
            "\n",
            "\n",
            "\n",
            "\n",
            "Den signade dag, som vi nu här s\n"
          ]
        }
      ],
      "source": [
        "print(corpus[:200])"
      ]
    },
    {
      "cell_type": "code",
      "execution_count": null,
      "metadata": {
        "id": "sO-dMdXzuZ0u",
        "outputId": "5f2354fc-12ec-4e49-fb18-111edb84cefa"
      },
      "outputs": [
        {
          "name": "stdout",
          "output_type": "stream",
          "text": [
            "Selma Lagerlöf Nils Holgerssons underbara resa genom Sverige. Första bandet Bokutgåva Albert Bonniers förlag Stockholm . DEN KRISTLIGA DAGVISAN. Den signade dag som vi nu här s\n"
          ]
        }
      ],
      "source": [
        "print(clean(corpus[:200]))"
      ]
    },
    {
      "cell_type": "markdown",
      "metadata": {
        "id": "6ywnpHqnuZ0u"
      },
      "source": [
        "#### Segmenter"
      ]
    },
    {
      "cell_type": "markdown",
      "metadata": {
        "id": "8il2uT9TuZ0u"
      },
      "source": [
        "In this section, you will write a sentence segmenter that will delimit each sentence with `</s>` and `<s>` symbols. For example the sentence:\n",
        "\n",
        "_En gång hade de på Mårbacka en barnpiga, som hette Back-Kajsa._\n",
        "\n",
        "will be bracketed as:\n",
        "\n",
        "`<s> En gång hade de på Mårbacka en barnpiga som hette Back-Kajsa </s>`\n",
        "\n",
        "As algorithm, you will use a simple heuristics to detect the sentence boundaries: A sentence starts with a capital letter and ends with a period-equivalent punctuation sign. You will write a regex to match these boundaries with a regular expression and you will insert `</s>\\n<s>` symbols with a substitution function."
      ]
    },
    {
      "cell_type": "markdown",
      "metadata": {
        "id": "PoM1BOuRuZ0u"
      },
      "source": [
        "##### Detecting sentence boundaries"
      ]
    },
    {
      "cell_type": "markdown",
      "metadata": {
        "id": "4rEEJqpCuZ0u"
      },
      "source": [
        "Write a regular expression that matches a punctuation, a sequence of spaces, and an uppercase letter. Call this regex string `sentence_boundaries`. In the regex, you will remember the value of the uppercase letter using a backreference. Use the Unicode regexes for the letters and the spaces. You may use `\\s` though."
      ]
    },
    {
      "cell_type": "code",
      "execution_count": null,
      "metadata": {
        "id": "WM5F4nz4uZ0u"
      },
      "outputs": [],
      "source": [
        "# Write your code here\n"
      ]
    },
    {
      "cell_type": "markdown",
      "metadata": {
        "id": "9Bm-n_L7uZ0v"
      },
      "source": [
        "##### Replacement markup"
      ]
    },
    {
      "cell_type": "markdown",
      "metadata": {
        "id": "dakzEiv4uZ0v"
      },
      "source": [
        "Write a string to replace the matched boundaries with the sentence boundary markup. Remember that a sentence ends with `</s>` and starts with `<s>` and that there is one sentence per line. Hint: The markup is `</s>\\n<s>`. Remember also that the first letter of your sentence is in a regex backreference. Call the regex string `sentence_markup`."
      ]
    },
    {
      "cell_type": "code",
      "execution_count": null,
      "metadata": {
        "id": "lTdS6uDYuZ0v"
      },
      "outputs": [],
      "source": [
        "# Write your code here\n"
      ]
    },
    {
      "cell_type": "markdown",
      "metadata": {
        "id": "jlxLUxuBuZ0v"
      },
      "source": [
        "##### Applying the substitution"
      ]
    },
    {
      "cell_type": "markdown",
      "metadata": {
        "id": "p3OWwrzhuZ0v"
      },
      "source": [
        "Use your regexes to segment your text. Use the string `sentence_boundaries`, `sentence_markup`, and `test_para` as input and `text` as output."
      ]
    },
    {
      "cell_type": "code",
      "execution_count": null,
      "metadata": {
        "id": "xJNrKZGauZ0v"
      },
      "outputs": [],
      "source": [
        "# Write your code here\n",
        "text ="
      ]
    },
    {
      "cell_type": "code",
      "execution_count": null,
      "metadata": {
        "id": "q7-E5hAGuZ0v",
        "outputId": "38e4f4eb-2c95-4374-8acd-728cc8aad502"
      },
      "outputs": [
        {
          "name": "stdout",
          "output_type": "stream",
          "text": [
            "En gång hade de på Mårbacka en barnpiga som hette Back Kajsa </s>\n",
            "<s> Hon var nog sina tre alnar lång hon hade ett stort grovt ansikte med stränga mörka drag hennes händer voro hårda och fulla av sprickor som barnens hår fastnade i när hon kammade dem och till humöret var hon dyster och sorgbunden.\n"
          ]
        }
      ],
      "source": [
        "print(text)"
      ]
    },
    {
      "cell_type": "markdown",
      "metadata": {
        "id": "T8_8qySOuZ0v"
      },
      "source": [
        "Insert markup codes in the beginning and end of the text"
      ]
    },
    {
      "cell_type": "code",
      "execution_count": null,
      "metadata": {
        "id": "6wu4PuP3uZ0v"
      },
      "outputs": [],
      "source": [
        "# Write your code here\n"
      ]
    },
    {
      "cell_type": "code",
      "execution_count": null,
      "metadata": {
        "id": "Y5F2NBtwuZ0v",
        "outputId": "ccac3497-f4ea-4410-ab65-ee540653943c"
      },
      "outputs": [
        {
          "name": "stdout",
          "output_type": "stream",
          "text": [
            "<s> En gång hade de på Mårbacka en barnpiga som hette Back Kajsa </s>\n",
            "<s> Hon var nog sina tre alnar lång hon hade ett stort grovt ansikte med stränga mörka drag hennes händer voro hårda och fulla av sprickor som barnens hår fastnade i när hon kammade dem och till humöret var hon dyster och sorgbunden. </s>\n"
          ]
        }
      ],
      "source": [
        "print(text)"
      ]
    },
    {
      "cell_type": "markdown",
      "metadata": {
        "id": "zNUeLpvcuZ0v"
      },
      "source": [
        "Replace the space duplicates with one space and remove the punctuation signs. For the spaces, use the Unicode regex. You may use `\\s` though."
      ]
    },
    {
      "cell_type": "code",
      "execution_count": null,
      "metadata": {
        "id": "Jn0ltTLbuZ0v"
      },
      "outputs": [],
      "source": [
        "# Write your code here\n"
      ]
    },
    {
      "cell_type": "code",
      "execution_count": null,
      "metadata": {
        "id": "VryTeINzuZ0v",
        "outputId": "1373181f-7697-46dc-89c4-ef2a7f25d958"
      },
      "outputs": [
        {
          "name": "stdout",
          "output_type": "stream",
          "text": [
            "<s> En gång hade de på Mårbacka en barnpiga som hette Back Kajsa </s>\n",
            "<s> Hon var nog sina tre alnar lång hon hade ett stort grovt ansikte med stränga mörka drag hennes händer voro hårda och fulla av sprickor som barnens hår fastnade i när hon kammade dem och till humöret var hon dyster och sorgbunden </s>\n"
          ]
        }
      ],
      "source": [
        "print(text)"
      ]
    },
    {
      "cell_type": "markdown",
      "metadata": {
        "id": "PTgjlgf6uZ0v"
      },
      "source": [
        "Write a `segment_sentences(text)` function to gather the code in the Segmenter section and set the text in lowercase"
      ]
    },
    {
      "cell_type": "code",
      "execution_count": null,
      "metadata": {
        "id": "ots76n9nuZ0v"
      },
      "outputs": [],
      "source": [
        "# Write your code here\n",
        "def segment_sentences(text):\n",
        ""
      ]
    },
    {
      "cell_type": "code",
      "execution_count": null,
      "metadata": {
        "id": "um5GxaGFuZ0v",
        "outputId": "cec4112f-9d15-4f9e-d2fd-2c971dd3b433"
      },
      "outputs": [
        {
          "name": "stdout",
          "output_type": "stream",
          "text": [
            "<s> en gång hade de på mårbacka en barnpiga som hette back kajsa </s>\n",
            "<s> hon var nog sina tre alnar lång hon hade ett stort grovt ansikte med stränga mörka drag hennes händer voro hårda och fulla av sprickor som barnens hår fastnade i när hon kammade dem och till humöret var hon dyster och sorgbunden </s>\n"
          ]
        }
      ],
      "source": [
        "print(segment_sentences(test_para))"
      ]
    },
    {
      "cell_type": "markdown",
      "metadata": {
        "id": "QpHJcImsuZ0v"
      },
      "source": [
        "Estimate qualitatively the accuracy of your program."
      ]
    },
    {
      "cell_type": "markdown",
      "metadata": {
        "id": "MqKSd8QfuZ0v"
      },
      "source": [
        "#### Tokenizing the corpus"
      ]
    },
    {
      "cell_type": "markdown",
      "metadata": {
        "id": "cjAuuyepuZ0w"
      },
      "source": [
        "Clean and segment the corpus using the functions you have written"
      ]
    },
    {
      "cell_type": "code",
      "execution_count": null,
      "metadata": {
        "id": "0D_CbA9RuZ0w"
      },
      "outputs": [],
      "source": [
        "# Write your code here\n"
      ]
    },
    {
      "cell_type": "markdown",
      "metadata": {
        "id": "LEgPtVDRuZ0w"
      },
      "source": [
        "The result should be a normalized text without punctuation signs where all the sentences are delimited with `<s>` and `</s>` tags. The five last lines of the text should look like this. You may have some small differences."
      ]
    },
    {
      "cell_type": "code",
      "execution_count": null,
      "metadata": {
        "id": "fOWQ62hvuZ0w",
        "outputId": "a3515ead-c17e-431a-f084-86a7b7ca308f"
      },
      "outputs": [
        {
          "name": "stdout",
          "output_type": "stream",
          "text": [
            "<s> hon hade fått större kärlek av sina föräldrar än någon annan han visste och sådan kärlek måste vändas i välsignelse </s>\n",
            "<s> då prästen sade detta kom alla människor att se bort mot klara gulla och de förundrade sig över vad de såg </s>\n",
            "<s> prästens ord tycktes redan ha gått i uppfyllelse </s>\n",
            "<s> där stod klara fina gulleborg ifrån skrolycka hon som var uppkallad efter själva solen vid sina föräldrars grav och lyste som en förklarad </s>\n",
            "<s> hon var likaså vacker som den söndagen då hon gick till kyrkan i den röda klänningen om inte vackrare </s>\n"
          ]
        }
      ],
      "source": [
        "print(corpus[-557:])"
      ]
    },
    {
      "cell_type": "markdown",
      "metadata": {
        "id": "C-wHwTNnuZ0w"
      },
      "source": [
        "You will now create a list of words from your string. You will consider that a space or a carriage return is an item separator"
      ]
    },
    {
      "cell_type": "code",
      "execution_count": null,
      "metadata": {
        "id": "lrJ7cAYzuZ0w"
      },
      "outputs": [],
      "source": [
        "# Write your code here\n"
      ]
    },
    {
      "cell_type": "markdown",
      "metadata": {
        "id": "EWsBfLECuZ0w"
      },
      "source": [
        "The five last lines of the corpus should like this:"
      ]
    },
    {
      "cell_type": "code",
      "execution_count": null,
      "metadata": {
        "id": "h_aDH8BTuZ0w",
        "outputId": "d91aa386-c99f-47a7-a80a-45ecd65acec9"
      },
      "outputs": [
        {
          "name": "stdout",
          "output_type": "stream",
          "text": [
            "['<s>', 'hon', 'hade', 'fått', 'större', 'kärlek', 'av', 'sina', 'föräldrar', 'än', 'någon', 'annan', 'han', 'visste', 'och', 'sådan', 'kärlek', 'måste', 'vändas', 'i', 'välsignelse', '</s>', '<s>', 'då', 'prästen', 'sade', 'detta', 'kom', 'alla', 'människor', 'att', 'se', 'bort', 'mot', 'klara', 'gulla', 'och', 'de', 'förundrade', 'sig', 'över', 'vad', 'de', 'såg', '</s>', '<s>', 'prästens', 'ord', 'tycktes', 'redan', 'ha', 'gått', 'i', 'uppfyllelse', '</s>', '<s>', 'där', 'stod', 'klara', 'fina', 'gulleborg', 'ifrån', 'skrolycka', 'hon', 'som', 'var', 'uppkallad', 'efter', 'själva', 'solen', 'vid', 'sina', 'föräldrars', 'grav', 'och', 'lyste', 'som', 'en', 'förklarad', '</s>', '<s>', 'hon', 'var', 'likaså', 'vacker', 'som', 'den', 'söndagen', 'då', 'hon', 'gick', 'till', 'kyrkan', 'i', 'den', 'röda', 'klänningen', 'om', 'inte', 'vackrare', '</s>']\n"
          ]
        }
      ],
      "source": [
        "print(words[-101:])"
      ]
    },
    {
      "cell_type": "markdown",
      "metadata": {
        "id": "XVNLMQP4uZ0w"
      },
      "source": [
        "### Counting unigrams and bigrams"
      ]
    },
    {
      "cell_type": "markdown",
      "metadata": {
        "id": "ZqR9QF5TuZ0w"
      },
      "source": [
        "Read and try programs to compute the frequency of unigrams and bigrams of the training set in the noteboo: [https://github.com/pnugues/pnlp/blob/main/notebooks/10_01_ngrams.ipynb](https://github.com/pnugues/pnlp/blob/main/notebooks/10_01_ngrams.ipynb)."
      ]
    },
    {
      "cell_type": "markdown",
      "metadata": {
        "id": "oQFtC9fluZ0w"
      },
      "source": [
        "#### Unigrams"
      ]
    },
    {
      "cell_type": "code",
      "execution_count": null,
      "metadata": {
        "id": "mfmcKqA9uZ0w"
      },
      "outputs": [],
      "source": [
        "def unigrams(words):\n",
        "    frequency = {}\n",
        "    for i in range(len(words)):\n",
        "        if words[i] in frequency:\n",
        "            frequency[words[i]] += 1\n",
        "        else:\n",
        "            frequency[words[i]] = 1\n",
        "    return frequency"
      ]
    },
    {
      "cell_type": "markdown",
      "metadata": {
        "id": "OacKic9tuZ0w"
      },
      "source": [
        "We compute the frequencies."
      ]
    },
    {
      "cell_type": "code",
      "execution_count": null,
      "metadata": {
        "id": "_c8wXji6uZ0w",
        "outputId": "92a4676e-aaca-4763-b57a-2262890763e2"
      },
      "outputs": [
        {
          "data": {
            "text/plain": [
              "[('<s>', 59047),\n",
              " ('selma', 52),\n",
              " ('lagerlöf', 270),\n",
              " ('nils', 87),\n",
              " ('holgerssons', 6),\n",
              " ('underbara', 23),\n",
              " ('resa', 317),\n",
              " ('genom', 688),\n",
              " ('sverige', 56),\n",
              " ('</s>', 59047),\n",
              " ('första', 525),\n",
              " ('bandet', 6),\n",
              " ('bokutgåva', 11),\n",
              " ('albert', 15),\n",
              " ('bonniers', 11),\n",
              " ('förlag', 11),\n",
              " ('stockholm', 77),\n",
              " ('den', 11624),\n",
              " ('kristliga', 2),\n",
              " ('dagvisan', 2)]"
            ]
          },
          "execution_count": 30,
          "metadata": {},
          "output_type": "execute_result"
        }
      ],
      "source": [
        "frequency = unigrams(words)\n",
        "list(frequency.items())[:20]"
      ]
    },
    {
      "cell_type": "markdown",
      "metadata": {
        "id": "8Jub0970uZ0w"
      },
      "source": [
        "#### Bigrams"
      ]
    },
    {
      "cell_type": "code",
      "execution_count": null,
      "metadata": {
        "id": "szPjCTXiuZ0w"
      },
      "outputs": [],
      "source": [
        "def bigrams(words):\n",
        "    bigrams = []\n",
        "    for i in range(len(words) - 1):\n",
        "        bigrams.append((words[i], words[i + 1]))\n",
        "    frequency_bigrams = {}\n",
        "    for i in range(len(words) - 1):\n",
        "        if bigrams[i] in frequency_bigrams:\n",
        "            frequency_bigrams[bigrams[i]] += 1\n",
        "        else:\n",
        "            frequency_bigrams[bigrams[i]] = 1\n",
        "    return frequency_bigrams"
      ]
    },
    {
      "cell_type": "code",
      "execution_count": null,
      "metadata": {
        "id": "YMKWV2tguZ0w",
        "outputId": "9bdb3dee-d349-431e-e7da-397ef2f3741d"
      },
      "outputs": [
        {
          "data": {
            "text/plain": [
              "[(('<s>', 'selma'), 8),\n",
              " (('selma', 'lagerlöf'), 11),\n",
              " (('lagerlöf', 'nils'), 1),\n",
              " (('nils', 'holgerssons'), 6),\n",
              " (('holgerssons', 'underbara'), 4),\n",
              " (('underbara', 'resa'), 4),\n",
              " (('resa', 'genom'), 6),\n",
              " (('genom', 'sverige'), 5),\n",
              " (('sverige', '</s>'), 17),\n",
              " (('</s>', '<s>'), 59046),\n",
              " (('<s>', 'första'), 11),\n",
              " (('första', 'bandet'), 1),\n",
              " (('bandet', 'bokutgåva'), 2),\n",
              " (('bokutgåva', 'albert'), 11),\n",
              " (('albert', 'bonniers'), 11),\n",
              " (('bonniers', 'förlag'), 11),\n",
              " (('förlag', 'stockholm'), 10),\n",
              " (('stockholm', '</s>'), 24),\n",
              " (('<s>', 'den'), 1375),\n",
              " (('den', 'kristliga'), 2)]"
            ]
          },
          "execution_count": 32,
          "metadata": {},
          "output_type": "execute_result"
        }
      ],
      "source": [
        "frequency_bigrams = bigrams(words)\n",
        "list(frequency_bigrams.items())[:20]"
      ]
    },
    {
      "cell_type": "markdown",
      "metadata": {
        "id": "23KllDYfuZ0w"
      },
      "source": [
        "In the report, tell what is the possible number of bigrams and their real number? Explain why such a difference. What would be the possible number of 4-grams.\n",
        "\n",
        "Propose a solution to cope with bigrams unseen in the corpus."
      ]
    },
    {
      "cell_type": "markdown",
      "metadata": {
        "id": "3t73LxqxuZ0w"
      },
      "source": [
        "### Computing the likelihood of a sentence\n",
        "You will now compute the likelihood of a sentence using a bigram and a trigram models.\n",
        "\n",
        "In both models, you will ignore the start of sentence symbol, `<s>`, as this factor is common to both models: $P(<s>)$. This will save you one multiplication."
      ]
    },
    {
      "cell_type": "markdown",
      "metadata": {
        "id": "3Yi71u7LuZ0w"
      },
      "source": [
        "#### Unigrams"
      ]
    },
    {
      "cell_type": "markdown",
      "metadata": {
        "id": "07yq1901uZ0w"
      },
      "source": [
        "Write a program to compute a sentence's probability using unigrams. Your function will return the perplexity."
      ]
    },
    {
      "cell_type": "markdown",
      "metadata": {
        "id": "YUtbRSowuZ0w"
      },
      "source": [
        "Your function should print and tabulate the results as in the examples below with the sentence _Det var en gång en katt som hette Nils_.\n",
        "\n",
        "Your figures might be slightly different because of differences in the sentence segmentation."
      ]
    },
    {
      "cell_type": "markdown",
      "metadata": {
        "id": "biMNQqgzuZ0w"
      },
      "source": [
        "```\n",
        "=====================================================\n",
        "wi \t C(wi) \t #words \t P(wi)\n",
        "=====================================================\n",
        "det \t 21108 \t 1041631 \t 0.0202643738521607\n",
        "var \t 12090 \t 1041631 \t 0.01160679741674355\n",
        "en \t 13514 \t 1041631 \t 0.01297388422579589\n",
        "gång \t 1332 \t 1041631 \t 0.001278763784871994\n",
        "en \t 13514 \t 1041631 \t 0.01297388422579589\n",
        "katt \t 16 \t 1041631 \t 1.5360525944408337e-05\n",
        "som \t 16288 \t 1041631 \t 0.015637015411407686\n",
        "hette \t 97 \t 1041631 \t 9.312318853797554e-05\n",
        "nils \t 87 \t 1041631 \t 8.352285982272032e-05\n",
        "</s> \t 59047 \t 1041631 \t 0.056687060964967444\n",
        "=====================================================\n",
        "Prob. unigrams:\t 5.361459667285409e-27\n",
        "Geometric mean prob.: 0.0023600885848765307\n",
        "Entropy rate:\t 8.726943273141258\n",
        "Perplexity:\t 423.71290908655254\n",
        "```"
      ]
    },
    {
      "cell_type": "code",
      "execution_count": null,
      "metadata": {
        "id": "gq63-tf_uZ0x"
      },
      "outputs": [],
      "source": [
        "# Write your code\n",
        "def unigram_lm(frequency, sent_words):\n",
        "    \"\"\"\n",
        "    Computing the sentence probs with a unigram model.\n",
        "    \"\"\"\n",
        ""
      ]
    },
    {
      "cell_type": "code",
      "execution_count": null,
      "metadata": {
        "id": "OIuAa8pNuZ0x",
        "outputId": "45362ce9-51ec-4f36-b628-3b09d74a65af"
      },
      "outputs": [
        {
          "data": {
            "text/plain": [
              "['det', 'var', 'en', 'gång', 'en', 'katt', 'som', 'hette', 'nils', '</s>']"
            ]
          },
          "execution_count": 34,
          "metadata": {},
          "output_type": "execute_result"
        }
      ],
      "source": [
        "sentence = 'det var en gång en katt som hette nils </s>'\n",
        "sent_words = sentence.split()\n",
        "sent_words"
      ]
    },
    {
      "cell_type": "code",
      "execution_count": null,
      "metadata": {
        "id": "usIQ-an6uZ0x",
        "outputId": "659afdd8-688d-45e4-b644-c0399a688a8c"
      },
      "outputs": [
        {
          "name": "stdout",
          "output_type": "stream",
          "text": [
            "Unigram model\n",
            "=====================================================\n",
            "wi \t C(wi) \t #words \t P(wi)\n",
            "=====================================================\n",
            "det \t 21108 \t 1041631 \t 0.0202643738521607\n",
            "var \t 12090 \t 1041631 \t 0.01160679741674355\n",
            "en \t 13514 \t 1041631 \t 0.01297388422579589\n",
            "gång \t 1332 \t 1041631 \t 0.001278763784871994\n",
            "en \t 13514 \t 1041631 \t 0.01297388422579589\n",
            "katt \t 16 \t 1041631 \t 1.5360525944408337e-05\n",
            "som \t 16288 \t 1041631 \t 0.015637015411407686\n",
            "hette \t 97 \t 1041631 \t 9.312318853797554e-05\n",
            "nils \t 87 \t 1041631 \t 8.352285982272032e-05\n",
            "</s> \t 59047 \t 1041631 \t 0.056687060964967444\n",
            "=====================================================\n",
            "Prob. unigrams:\t 5.361459667285409e-27 \n",
            "Geometric mean prob.: 0.0023600885848765307 \n",
            "Entropy rate:\t 8.726943273141258 \n",
            "Perplexity:\t 423.71290908655254 \n",
            "\n"
          ]
        }
      ],
      "source": [
        "perplexity_unigrams = unigram_lm(frequency, sent_words)"
      ]
    },
    {
      "cell_type": "code",
      "execution_count": null,
      "metadata": {
        "id": "f16qAYFhuZ0x",
        "outputId": "01a47a08-7293-4a8e-f8b5-eb6a407eb161"
      },
      "outputs": [
        {
          "data": {
            "text/plain": [
              "423"
            ]
          },
          "execution_count": 36,
          "metadata": {},
          "output_type": "execute_result"
        }
      ],
      "source": [
        "perplexity_unigrams = int(perplexity_unigrams)\n",
        "perplexity_unigrams"
      ]
    },
    {
      "cell_type": "markdown",
      "metadata": {
        "id": "UyTHXtz9uZ0x"
      },
      "source": [
        "#### Bigrams"
      ]
    },
    {
      "cell_type": "markdown",
      "metadata": {
        "id": "0kQExpN0uZ0x"
      },
      "source": [
        "Write a program to compute the sentence probability using bigrams. Your function will tabulate and print the results as below. It will return the perplexity."
      ]
    },
    {
      "cell_type": "markdown",
      "metadata": {
        "id": "yJRWRl5TuZ0x"
      },
      "source": [
        "```\n",
        "=====================================================\n",
        "wi \t wi+1 \t Ci,i+1 \t C(i) \t P(wi+1|wi)\n",
        "=====================================================\n",
        "<s>\t det \t 5672 \t 59047 \t 0.09605907158704083\n",
        "det \t var \t 3839 \t 21108 \t 0.1818741709304529\n",
        "var \t en \t 712 \t 12090 \t 0.058891645988420185\n",
        "en \t gång \t 706 \t 13514 \t 0.052242119283705785\n",
        "gång \t en \t 20 \t 1332 \t 0.015015015015015015\n",
        "en \t katt \t 6 \t 13514 \t 0.0004439840165754033\n",
        "katt \t som \t 2 \t 16 \t 0.125\n",
        "som \t hette \t 45 \t 16288 \t 0.002762770137524558\n",
        "hette \t nils \t 0 \t 97 \t 0.0 \t *backoff: \t 8.352285982272032e-05\n",
        "nils \t </s> \t 2 \t 87 \t 0.022988505747126436\n",
        "=====================================================\n",
        "Prob. bigrams:\t 2.376007803503683e-19\n",
        "Geometric mean prob.: 0.013727289294133601\n",
        "Entropy rate:\t 6.186809422848149\n",
        "Perplexity:\t 72.84759420254609\n",
        "```"
      ]
    },
    {
      "cell_type": "code",
      "execution_count": null,
      "metadata": {
        "id": "UNehHnBTuZ0x"
      },
      "outputs": [],
      "source": [
        "# Write your code\n",
        "def bigram_lm(frequency, frequency_bigrams, sent_words):\n",
        ""
      ]
    },
    {
      "cell_type": "code",
      "execution_count": null,
      "metadata": {
        "id": "O746kF9ruZ0x",
        "outputId": "e3b2f186-3344-439e-f906-bd8cd1a62c04"
      },
      "outputs": [
        {
          "name": "stdout",
          "output_type": "stream",
          "text": [
            "Bigram model\n",
            "=====================================================\n",
            "wi \t wi+1 \t Ci,i+1 \t C(i) \t P(wi+1|wi)\n",
            "=====================================================\n",
            "<s>\t det \t 5672 \t 59047 \t 0.09605907158704083\n",
            "det \t var \t 3839 \t 21108 \t 0.1818741709304529\n",
            "var \t en \t 712 \t 12090 \t 0.058891645988420185\n",
            "en \t gång \t 706 \t 13514 \t 0.052242119283705785\n",
            "gång \t en \t 20 \t 1332 \t 0.015015015015015015\n",
            "en \t katt \t 6 \t 13514 \t 0.0004439840165754033\n",
            "katt \t som \t 2 \t 16 \t 0.125\n",
            "som \t hette \t 45 \t 16288 \t 0.002762770137524558\n",
            "hette \t nils \t 0 \t 97 \t 0.0 \t *backoff: \t 8.352285982272032e-05\n",
            "nils \t </s> \t 2 \t 87 \t 0.022988505747126436\n",
            "=====================================================\n",
            "Prob. bigrams:\t 2.376007803503683e-19 \n",
            "Geometric mean prob.: 0.013727289294133601 \n",
            "Entropy rate:\t 6.186809422848149 \n",
            "Perplexity:\t 72.84759420254609\n"
          ]
        }
      ],
      "source": [
        "perplexity_bigrams = bigram_lm(frequency, frequency_bigrams, sent_words)"
      ]
    },
    {
      "cell_type": "code",
      "execution_count": null,
      "metadata": {
        "id": "kBWb0XIJuZ0x",
        "outputId": "02c206e7-e7c0-48f5-c9f7-a574da5a7a81"
      },
      "outputs": [
        {
          "data": {
            "text/plain": [
              "72"
            ]
          },
          "execution_count": 39,
          "metadata": {},
          "output_type": "execute_result"
        }
      ],
      "source": [
        "perplexity_bigrams = int(perplexity_bigrams)\n",
        "perplexity_bigrams"
      ]
    },
    {
      "cell_type": "markdown",
      "metadata": {
        "id": "24IgEg4wuZ0x"
      },
      "source": [
        "In addition to this sentence, _Det var en gång en katt som hette Nils_, write two other sentences that will form your test set and run your programs on them. You will insert them in your report."
      ]
    },
    {
      "cell_type": "markdown",
      "metadata": {
        "id": "S8PM8PoEuZ0x"
      },
      "source": [
        "### Online prediction of words"
      ]
    },
    {
      "cell_type": "markdown",
      "metadata": {
        "id": "p8NmG5j_uZ0x"
      },
      "source": [
        "You will now carry out an online prediction of words. You will consider two cases:\n",
        "1. Prediction of the current word a user is typing;\n",
        "2. Prediction of the next word.\n",
        "\n",
        "Ideally, you would write a loop that reads the words and apply the models while typing. As the Jupyter labs are not designed for interactive input and output, we will simplify the experimental settings with constant strings at a given time of the input.  \n",
        "\n",
        "We will assume the user is typing the phrase: _Det var en gång_."
      ]
    },
    {
      "cell_type": "markdown",
      "metadata": {
        "id": "1In0Z9lwuZ0x"
      },
      "source": [
        "#### Trigrams"
      ]
    },
    {
      "cell_type": "markdown",
      "metadata": {
        "id": "OXf8vMVfuZ0x"
      },
      "source": [
        "To have a more accurate prediction, you will use a trigram counting function. Program this function following the model of your bigram counting function."
      ]
    },
    {
      "cell_type": "code",
      "execution_count": null,
      "metadata": {
        "id": "kSGKr2rLuZ0x"
      },
      "outputs": [],
      "source": [
        "# Write your code\n",
        "def trigrams(words):\n",
        ""
      ]
    },
    {
      "cell_type": "code",
      "execution_count": null,
      "metadata": {
        "id": "SG9oPJUHuZ0x",
        "outputId": "56b7ac4c-9052-4a1a-f038-cb7c4a181534"
      },
      "outputs": [
        {
          "data": {
            "text/plain": [
              "330"
            ]
          },
          "execution_count": 41,
          "metadata": {},
          "output_type": "execute_result"
        }
      ],
      "source": [
        "frequency_trigrams = trigrams(words)\n",
        "frequency_trigrams[('det', 'var', 'en')]"
      ]
    },
    {
      "cell_type": "markdown",
      "metadata": {
        "id": "oNhoh3pFuZ0x"
      },
      "source": [
        "#### Prediction"
      ]
    },
    {
      "cell_type": "markdown",
      "metadata": {
        "id": "SFQoS57vuZ0x"
      },
      "source": [
        "The user starts typing _Det var en gång_. After the 2nd character, your program tries to help the user with suggested words."
      ]
    },
    {
      "cell_type": "code",
      "execution_count": null,
      "metadata": {
        "id": "slFM-EQ-uZ0y",
        "outputId": "33f5e88d-842f-4d40-d2b4-ccab078799d4"
      },
      "outputs": [
        {
          "data": {
            "text/plain": [
              "'de'"
            ]
          },
          "execution_count": 42,
          "metadata": {},
          "output_type": "execute_result"
        }
      ],
      "source": [
        "starting_text = 'De'.lower()\n",
        "starting_text"
      ]
    },
    {
      "cell_type": "markdown",
      "metadata": {
        "id": "d-k9LAGcuZ0y"
      },
      "source": [
        "Write a program to rank the five first candidates at this point. Assign these predictions in a list that you will call `current_word_predictions_1`. Note that you are starting a sentence and you can then use the bigram frequencies. Write a sorting key that will enable you to have a deterministic ranking of the words or bigrams with identical frequencies: When two words have the same frequency, you will sort them by alphabetic order. You can do this with a tuple."
      ]
    },
    {
      "cell_type": "code",
      "execution_count": null,
      "metadata": {
        "id": "X9loSsrJuZ0y"
      },
      "outputs": [],
      "source": [
        "cand_nbr = 5"
      ]
    },
    {
      "cell_type": "code",
      "execution_count": null,
      "metadata": {
        "id": "g5VS4lmtuZ0y"
      },
      "outputs": [],
      "source": [
        "# Write your code here\n"
      ]
    },
    {
      "cell_type": "code",
      "execution_count": null,
      "metadata": {
        "id": "5-LLVLwduZ0y",
        "outputId": "d8b3d723-7da4-4b0f-d452-18a09f768468"
      },
      "outputs": [
        {
          "data": {
            "text/plain": [
              "['det', 'de', 'den', 'detta', 'denna']"
            ]
          },
          "execution_count": 45,
          "metadata": {},
          "output_type": "execute_result"
        }
      ],
      "source": [
        "current_word_predictions_1"
      ]
    },
    {
      "cell_type": "markdown",
      "metadata": {
        "id": "TnHtRThxuZ0y"
      },
      "source": [
        "Let us now suppose that the user has typed: _Det var en_. After detecting a space, your program starts predicting a next possible word."
      ]
    },
    {
      "cell_type": "code",
      "execution_count": null,
      "metadata": {
        "id": "RTAP7MkruZ0y",
        "outputId": "bdeaff6f-a8ec-4677-a1cb-509b4b2934dc"
      },
      "outputs": [
        {
          "data": {
            "text/plain": [
              "'det var en '"
            ]
          },
          "execution_count": 46,
          "metadata": {},
          "output_type": "execute_result"
        }
      ],
      "source": [
        "current_text = \"Det var en \".lower()\n",
        "current_text"
      ]
    },
    {
      "cell_type": "markdown",
      "metadata": {
        "id": "XJVPwN3euZ0y"
      },
      "source": [
        "Tokenize this text and return a list of tokens. Call it `tokens`."
      ]
    },
    {
      "cell_type": "code",
      "execution_count": null,
      "metadata": {
        "id": "NkkdckeyuZ0y"
      },
      "outputs": [],
      "source": [
        "# Write your code here\n"
      ]
    },
    {
      "cell_type": "code",
      "execution_count": null,
      "metadata": {
        "id": "R8pE4Wa8uZ0y",
        "outputId": "a2c1ebc2-7403-4b23-c6ab-015fddd32412"
      },
      "outputs": [
        {
          "data": {
            "text/plain": [
              "['det', 'var', 'en']"
            ]
          },
          "execution_count": 48,
          "metadata": {},
          "output_type": "execute_result"
        }
      ],
      "source": [
        "tokens"
      ]
    },
    {
      "cell_type": "markdown",
      "metadata": {
        "id": "x1RRsgDuuZ0y"
      },
      "source": [
        "Write a program to propose the five next possible words ranked by frequency using a trigram model. Assign these predictions to a variable that you will call `next_word_predictions`. Write a sorting key that will enable you have a deterministic ranking of the words or bigrams with identical frequencies: When two words have the same frequency, you will sort them by alphabetic order. You can do this with a tuple."
      ]
    },
    {
      "cell_type": "code",
      "execution_count": null,
      "metadata": {
        "id": "mrbH3jnLuZ0y"
      },
      "outputs": [],
      "source": [
        "# Write your code here\n"
      ]
    },
    {
      "cell_type": "code",
      "execution_count": null,
      "metadata": {
        "id": "fWY-QOtRuZ0y",
        "outputId": "743b5e14-c6a2-4e65-aae5-059bac627b11"
      },
      "outputs": [
        {
          "data": {
            "text/plain": [
              "['stor', 'liten', 'gammal', 'god', 'sådan']"
            ]
          },
          "execution_count": 50,
          "metadata": {},
          "output_type": "execute_result"
        }
      ],
      "source": [
        "next_word_predictions"
      ]
    },
    {
      "cell_type": "markdown",
      "metadata": {
        "id": "qkfrKMeGuZ0y"
      },
      "source": [
        "Finally, let us suppose that the user has typed _Det var en g_, rank the five possible candidates. Assign these predictions in a list that you will call `current_word_predictions_2`"
      ]
    },
    {
      "cell_type": "code",
      "execution_count": null,
      "metadata": {
        "id": "eOjUQTpmuZ0y"
      },
      "outputs": [],
      "source": [
        "current_text = \"Det var en g\".lower()"
      ]
    },
    {
      "cell_type": "code",
      "execution_count": null,
      "metadata": {
        "id": "6JslyIbluZ0y"
      },
      "outputs": [],
      "source": [
        "# Write your code here\n"
      ]
    },
    {
      "cell_type": "code",
      "execution_count": null,
      "metadata": {
        "id": "OUHNBAqDuZ0y",
        "outputId": "b4fce50d-6075-4e2e-804a-d0e0f718d567"
      },
      "outputs": [
        {
          "data": {
            "text/plain": [
              "['gammal', 'god', 'gång', 'ganska', 'glädje']"
            ]
          },
          "execution_count": 53,
          "metadata": {},
          "output_type": "execute_result"
        }
      ],
      "source": [
        "current_word_predictions_2"
      ]
    },
    {
      "cell_type": "markdown",
      "metadata": {
        "id": "c5WR30ZVuZ0y"
      },
      "source": [
        "## Turning in your assignment"
      ]
    },
    {
      "cell_type": "markdown",
      "metadata": {
        "id": "bqxtUZl3uZ0y"
      },
      "source": [
        "Now your are done with the program. To complete this assignment, you will:\n",
        "1. Write a short individual report on your program. I suggest that you use this structure for your report:\n",
        "      1. Objectives and dataset\n",
        "      2. Method and program structure, where you should outline your program and possibly describe difficult parts. In this section, you will include the __regular expression you used to segment the text__.\n",
        "      3. Results. You will include the __unigram and bigram tables__ for _Det var en gång en katt som hette Nils_ and __two other sentences__. You will also include the results of your __next word prediction__.\n",
        "      4. Conclusion\n",
        "      5. Answer to possible questions\n",
        "2. Execute the Jupyter notebook by Peter Norvig here: <a href=\"http://nbviewer.jupyter.org/url/norvig.com/ipython/How%20to%20Do%20Things%20with%20Words.ipynb\">https://nbviewer.jupyter.org/url/norvig.com/ipython/How to Do Things with Words.ipynb</a>. Just run all the cells and be sure that you understand the code. You will find the data here: <a href=\"http://norvig.com/ngrams/\">http://norvig.com/ngrams/</a>.\n",
        "3. In your report, after the description of your program and conclusion, you will describe one experiment with Norvig's notebook and a __long string of words your will create yourself or copy from a text you like__. You will remove all the punctuation and white spaces from this string. You will set this string in lowercase letters. You will just add a cell at the end of Sect. 7 in Norvig's notebook, where you will use your string and run the notebook cell with the <tt>segment()</tt> and <tt>segment2()</tt> functions. __You will comment the segmentation results you obtained__ with the unigram and bigram models.\n",
        "\n",
        "Submit your report as well as your **notebook** (for archiving purposes) to Canvas: https://canvas.education.lu.se/. To write your report, use Latex. This will probably help you structure your text. You can use the Overleaf online editor (www.overleaf.com). You will then upload a PDF file in Canvas.\n",
        "\n",
        "The submission deadline is September 26, 2025. You will have only three submission attempts. The deadline for the second and third ones are one week after you are noticed of your result."
      ]
    }
  ],
  "metadata": {
    "kernelspec": {
      "display_name": "Python 3.9.12 ('base')",
      "language": "python",
      "name": "python3"
    },
    "language_info": {
      "codemirror_mode": {
        "name": "ipython",
        "version": 3
      },
      "file_extension": ".py",
      "mimetype": "text/x-python",
      "name": "python",
      "nbconvert_exporter": "python",
      "pygments_lexer": "ipython3",
      "version": "3.12.4"
    },
    "vscode": {
      "interpreter": {
        "hash": "b97b11a820675205aae8f1d7f2a3f22bbd3a2c30189f44042310baf5b4cd1987"
      }
    },
    "colab": {
      "provenance": []
    }
  },
  "nbformat": 4,
  "nbformat_minor": 0
}