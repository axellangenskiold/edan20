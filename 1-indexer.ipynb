{
  "cells": [
    {
      "cell_type": "markdown",
      "metadata": {
        "id": "ldjK9ZSiSV78"
      },
      "source": [
        "# Assignment #1: Building an inverted index\n",
        "Author: Pierre Nugues"
      ]
    },
    {
      "cell_type": "markdown",
      "metadata": {
        "id": "L3ONzzLUSV78"
      },
      "source": [
        "## Objectives"
      ]
    },
    {
      "cell_type": "markdown",
      "metadata": {
        "id": "vUfZfPARSV79"
      },
      "source": [
        "The objectives of this assignment are to:\n",
        "* Write a program that collects all the words from a set of documents\n",
        "* Build an index from the words\n",
        "* Represent a document using the Tf.Idf values\n",
        "* Write a short report of 1 to 2 pages on the assignment\n",
        "* Read a description of an industrial system and answer a question on it\n",
        "* Discuss the potential of corpora in applications"
      ]
    },
    {
      "cell_type": "markdown",
      "metadata": {
        "id": "1HmVr42BSV79"
      },
      "source": [
        "## Submission"
      ]
    },
    {
      "cell_type": "markdown",
      "metadata": {
        "id": "1PClJ5ViSV79"
      },
      "source": [
        "When you have written all the missing code and run all the cells, you will submit your notebook to an automatic marking system. Do not erase the content of the cells as we will possibly check your programs manually.\n",
        "The submission instructions are at the bottom of the notebook."
      ]
    },
    {
      "cell_type": "markdown",
      "metadata": {
        "id": "st5DweUaSV79"
      },
      "source": [
        "## Description of the assignment"
      ]
    },
    {
      "cell_type": "markdown",
      "metadata": {
        "id": "fS6vKUIsSV79"
      },
      "source": [
        "### Outline"
      ]
    },
    {
      "cell_type": "markdown",
      "metadata": {
        "id": "b-xDOHS4SV79"
      },
      "source": [
        "In this lab, you will build an indexer to index all the words in a corpus. Conceptually, an index consists of rows with one word per row and the list of files and positions, where this word occurs. Such a row is called a _posting list_. You will encode the position of a word by the number of characters from the start of the file.\n",
        "<pre>\n",
        "word1: file_name pos1 pos2 pos3... file_name pos1 pos2 ...\n",
        "word2: file_name pos1 pos2 pos3... file_name pos1 pos2 ...\n",
        "...\n",
        "</pre>"
      ]
    },
    {
      "cell_type": "markdown",
      "metadata": {
        "id": "2BsLtqOFSV79"
      },
      "source": [
        "#### Imports"
      ]
    },
    {
      "cell_type": "markdown",
      "metadata": {
        "id": "cnHVhLA8SV79"
      },
      "source": [
        "Some imports. Add others as needed"
      ]
    },
    {
      "cell_type": "code",
      "execution_count": 2,
      "metadata": {
        "id": "h0Hb0kPzSV79"
      },
      "outputs": [],
      "source": [
        "import bz2\n",
        "import math\n",
        "import os\n",
        "import pickle\n",
        "import regex as re\n",
        "import requests\n",
        "import sys\n",
        "import time\n",
        "from zipfile import ZipFile"
      ]
    },
    {
      "cell_type": "markdown",
      "metadata": {
        "id": "rgMoXJnFSV79"
      },
      "source": [
        "## Corpus"
      ]
    },
    {
      "cell_type": "markdown",
      "metadata": {
        "id": "emdNkXxCSV79"
      },
      "source": [
        "You will create an index for a corpus of Selma Lagerlöf's works: To gather the corpus, you can alternatively:\n",
        "1. Download the <a href=\"https://github.com/pnugues/ilppp/raw/master/programs/corpus/Selma.zip\">Selma folder</a> and uncompress it. It contains novels by <a href=\"https://sv.wikipedia.org/wiki/Selma_Lagerl%C3%B6f\">Selma Lagerlöf</a>. The text of these novels was extracted from <a href=\"https://litteraturbanken.se/forfattare/LagerlofS/titlar\">Lagerlöf arkivet</a> at <a href=\"https://litteraturbanken.se/\">Litteraturbanken</a>.\n",
        "2. Or run this cell that will download the corpus and place it in your folder."
      ]
    },
    {
      "cell_type": "code",
      "execution_count": 3,
      "metadata": {
        "colab": {
          "base_uri": "https://localhost:8080/"
        },
        "id": "DMpAc3o7SV79",
        "outputId": "8d283ed8-879f-4e91-de2c-0462f6e52306"
      },
      "outputs": [
        {
          "output_type": "stream",
          "name": "stdout",
          "text": [
            "Downloading: 65536 bytes written to Selma.zip\n",
            "Downloading: 131072 bytes written to Selma.zip\n",
            "Downloading: 196608 bytes written to Selma.zip\n",
            "Downloading: 262144 bytes written to Selma.zip\n",
            "Downloading: 327680 bytes written to Selma.zip\n",
            "Downloading: 393216 bytes written to Selma.zip\n",
            "Downloading: 458752 bytes written to Selma.zip\n",
            "Downloading: 524288 bytes written to Selma.zip\n",
            "Downloading: 589824 bytes written to Selma.zip\n",
            "Downloading: 655360 bytes written to Selma.zip\n",
            "Downloading: 720896 bytes written to Selma.zip\n",
            "Downloading: 786432 bytes written to Selma.zip\n",
            "Downloading: 851968 bytes written to Selma.zip\n",
            "Downloading: 917504 bytes written to Selma.zip\n",
            "Downloading: 983040 bytes written to Selma.zip\n",
            "Downloading: 1048576 bytes written to Selma.zip\n",
            "Downloading: 1114112 bytes written to Selma.zip\n",
            "Downloading: 1179648 bytes written to Selma.zip\n",
            "Downloading: 1245184 bytes written to Selma.zip\n",
            "Downloading: 1310720 bytes written to Selma.zip\n",
            "Downloading: 1376256 bytes written to Selma.zip\n",
            "Downloading: 1441792 bytes written to Selma.zip\n",
            "Downloading: 1507328 bytes written to Selma.zip\n",
            "Downloading: 1572864 bytes written to Selma.zip\n",
            "Downloading: 1638400 bytes written to Selma.zip\n",
            "Downloading: 1703936 bytes written to Selma.zip\n",
            "Downloading: 1769472 bytes written to Selma.zip\n",
            "Downloading: 1835008 bytes written to Selma.zip\n",
            "Downloading: 1900544 bytes written to Selma.zip\n",
            "Downloading: 1941636 bytes written to Selma.zip\n",
            "Selma.zip donwnloaded.\n",
            "Extracted: Selma/troll.txt\n",
            "Extracted: Selma/kejsaren.txt\n",
            "Extracted: Selma/marbacka.txt\n",
            "Extracted: Selma/herrgard.txt\n",
            "Extracted: Selma/nils.txt\n",
            "Extracted: Selma/osynliga.txt\n",
            "Extracted: Selma/jerusalem.txt\n",
            "Extracted: Selma/bannlyst.txt\n",
            "Extracted: Selma/gosta.txt\n",
            "Done!\n"
          ]
        },
        {
          "output_type": "execute_result",
          "data": {
            "text/plain": [
              "['Selma/bannlyst.txt',\n",
              " 'Selma/gosta.txt',\n",
              " 'Selma/herrgard.txt',\n",
              " 'Selma/jerusalem.txt',\n",
              " 'Selma/kejsaren.txt',\n",
              " 'Selma/marbacka.txt',\n",
              " 'Selma/nils.txt',\n",
              " 'Selma/osynliga.txt',\n",
              " 'Selma/troll.txt']"
            ]
          },
          "metadata": {},
          "execution_count": 3
        }
      ],
      "source": [
        "# Parameters for Selma dataset\n",
        "SELMA_URL = \"https://github.com/pnugues/ilppp/raw/master/programs/corpus/Selma.zip\"\n",
        "\n",
        "SELMA_FILES = [\n",
        "    os.path.join(\"Selma\", fname)\n",
        "    for fname in\n",
        "    [\n",
        "        \"bannlyst.txt\",\n",
        "        \"gosta.txt\",\n",
        "        \"herrgard.txt\",\n",
        "        \"jerusalem.txt\",\n",
        "        \"kejsaren.txt\",\n",
        "        \"marbacka.txt\",\n",
        "        \"nils.txt\",\n",
        "        \"osynliga.txt\",\n",
        "        \"troll.txt\"\n",
        "    ]\n",
        "]\n",
        "\n",
        "def download_and_extract_selma():\n",
        "    \"\"\"Downloads and unpacks Selma.zip\"\"\"\n",
        "\n",
        "    # Download if not all files exist\n",
        "    req = requests.get(SELMA_URL, stream=True)\n",
        "    if req.status_code != 200:\n",
        "        print(\"Failed to download file, got status: \" + req.status_code)\n",
        "        req.close()\n",
        "    else:\n",
        "        with open(\"Selma.zip\", \"wb\") as fd:\n",
        "            written = 0\n",
        "            for chunk in req.iter_content(chunk_size=65536):\n",
        "                fd.write(chunk)\n",
        "                written += len(chunk)\n",
        "                print(\"Downloading: %d bytes written to Selma.zip\" % written)\n",
        "\n",
        "        print(\"Selma.zip donwnloaded.\")\n",
        "        req.close()\n",
        "\n",
        "        selma_zipfile = ZipFile(\"Selma.zip\")\n",
        "        selma_files_to_extract = [zi for zi in selma_zipfile.filelist if not zi.filename.startswith(\"__\") and zi.filename.endswith(\".txt\")]\n",
        "        for zi in selma_files_to_extract:\n",
        "            selma_zipfile.extract(zi)\n",
        "            print(\"Extracted: \" + zi.filename)\n",
        "\n",
        "        print(\"Done!\")\n",
        "\n",
        "# If not all path exists (all are true), then download\n",
        "if not all([os.path.exists(fname) for fname in SELMA_FILES]):\n",
        "    download_and_extract_selma()\n",
        "else:\n",
        "    print(\"Selma has been downloaded.\")\n",
        "\n",
        "SELMA_FILES"
      ]
    },
    {
      "cell_type": "markdown",
      "metadata": {
        "id": "eBLBct5rSV7-"
      },
      "source": [
        "### Running the indexer (optional)"
      ]
    },
    {
      "cell_type": "markdown",
      "metadata": {
        "id": "_vk5aRw5SV7-"
      },
      "source": [
        "In a production context, your final program would take a corpus as input (here the Selma Lagerlöf's novels) and create an index of all the words with their positions. You should be able to run it this way:\n",
        "<pre>$ python indexer.py folder_name</pre>\n",
        "In this lab, you will write the index in a Jupyter Notebook. The conversion into a Python program is left as an optional exercise."
      ]
    },
    {
      "cell_type": "markdown",
      "metadata": {
        "id": "IDngX_8nSV7-"
      },
      "source": [
        "## Programming the Indexer"
      ]
    },
    {
      "cell_type": "markdown",
      "metadata": {
        "id": "Qzof_zN2SV7-"
      },
      "source": [
        "To make programming easier, you will split this exercise into five steps:\n",
        "1. Index one file;\n",
        "2. Read the content of a folder\n",
        "3. Create a master index for all the files\n",
        "4. Use tfidf to represent the documents (novels)\n",
        "5. Compare the documents of a collection\n",
        "\n",
        "You will use dictionaries to represent the postings."
      ]
    },
    {
      "cell_type": "markdown",
      "metadata": {
        "id": "Mx9F5p-ZSV7-"
      },
      "source": [
        "### Indexing one file"
      ]
    },
    {
      "cell_type": "markdown",
      "metadata": {
        "id": "tEovMx6ySV7-"
      },
      "source": [
        "#### Description"
      ]
    },
    {
      "cell_type": "markdown",
      "metadata": {
        "id": "8qSkXsn_SV7-"
      },
      "source": [
        "<p>Write a program that reads one document <tt>file_name.txt</tt> and outputs an index file:\n",
        "            <tt>file_name.idx</tt>:\n",
        "        </p>\n",
        "        <ol>\n",
        "            <li>The index file will contain all the unique words in the document,\n",
        "                where each word is associated with the list of its positions in the document.\n",
        "            </li>\n",
        "            <li>You will represent this index as a dictionary, where the keys will be the words, and\n",
        "                the values, the lists of positions\n",
        "            </li>\n",
        "            <li>As words, you will consider all the strings of letters that you will set in lower case.\n",
        "                You will not index the rest (i.e. numbers, punctuations, or symbols).\n",
        "            </li>\n",
        "            <li>To extract the words, use Unicode regular expressions. Do not use <tt>\\w+</tt>,\n",
        "                for instance, but the Unicode equivalent.\n",
        "            </li>\n",
        "            <li>The word positions will correspond to the number of characters from the beginning of the file.\n",
        "                (The word offset from the beginning)\n",
        "            </li>\n",
        "            <li>You will use the <tt>finditer()</tt> method to find the positions of the words.\n",
        "                This will return you match objects,\n",
        "                where you will get the matches and the positions with\n",
        "                the <tt>group()</tt> and <tt>start()</tt> methods.\n",
        "            </li>\n",
        "            <li>You will use the pickle package to write your dictionary in an file,\n",
        "                see <a href=\"https://wiki.python.org/moin/UsingPickle\">https://wiki.python.org/moin/UsingPickle</a>.\n",
        "            </li>\n",
        "        </ol>"
      ]
    },
    {
      "cell_type": "markdown",
      "metadata": {
        "id": "YuC5_BxfSV7-"
      },
      "source": [
        "Below is an excerpt of the index of the `bannlyst.txt` text for the words <i>gjord</i>, <i>uppklarnande</i>, and <i>stjärnor</i>. The data is stored in a dictionary:\n",
        "\n",
        "<pre>\n",
        "{...\n",
        "'gjord': [8600, 183039, 220445],\n",
        "'uppklarnande': [8617],\n",
        "'stjärnor': [8641], ...\n",
        "}\n",
        "</pre>\n",
        "where the word <i>gjord</i> occurs three times in the text at positions 8600, 183039, and 220445, <i>uppklarnande</i>, once at position 8617, and <i>stjärnor</i>, once at position 8641."
      ]
    },
    {
      "cell_type": "markdown",
      "metadata": {
        "id": "q7eu-b4LSV7-"
      },
      "source": [
        "#### Writing a tokenizer"
      ]
    },
    {
      "cell_type": "markdown",
      "metadata": {
        "id": "AftufiX8SV7-"
      },
      "source": [
        "Write a **Unicode** regular expression to find words defined as sequences of letters. Using the Unicode notation is compulsory. If you are not sure, please refer to the lecture."
      ]
    },
    {
      "cell_type": "code",
      "execution_count": 18,
      "metadata": {
        "id": "zxUrm9LrSV7-"
      },
      "outputs": [],
      "source": [
        "# Write your regex here\n",
        "regex = r'\\p{L}+|[^\\s\\p{L}\\p{N}\\p{P}]+'"
      ]
    },
    {
      "cell_type": "code",
      "execution_count": 37,
      "metadata": {
        "colab": {
          "base_uri": "https://localhost:8080/"
        },
        "id": "nU4ZJ34-SV7-",
        "outputId": "fe8ec6ba-8b25-4f22-a898-9a8574afbfa1"
      },
      "outputs": [
        {
          "output_type": "execute_result",
          "data": {
            "text/plain": [
              "['en',\n",
              " 'gång',\n",
              " 'hade',\n",
              " 'de',\n",
              " 'på',\n",
              " 'mårbacka',\n",
              " 'en',\n",
              " 'barnpiga',\n",
              " 'som',\n",
              " 'hette',\n",
              " 'back',\n",
              " 'kajsa']"
            ]
          },
          "metadata": {},
          "execution_count": 37
        }
      ],
      "source": [
        "re.findall(regex, 'En gång hade de på Mårbacka en barnpiga, som hette Back-Kajsa'.lower())"
      ]
    },
    {
      "cell_type": "markdown",
      "metadata": {
        "id": "XRWiP9xlSV7-"
      },
      "source": [
        "Using `regex`, write `tokenize(text)` function to tokenize a text. Return their positions."
      ]
    },
    {
      "cell_type": "code",
      "execution_count": 42,
      "metadata": {
        "id": "xkaHv7gBSV7-"
      },
      "outputs": [],
      "source": [
        "# Write your code here\n",
        "def tokenize(text):\n",
        "  tokens = re.finditer(regex, text)\n",
        "  return tokens"
      ]
    },
    {
      "cell_type": "code",
      "execution_count": 47,
      "metadata": {
        "colab": {
          "base_uri": "https://localhost:8080/"
        },
        "id": "A735UBmfSV7-",
        "outputId": "cdc32e37-f012-43eb-bfd3-93b3f47180da"
      },
      "outputs": [
        {
          "output_type": "execute_result",
          "data": {
            "text/plain": [
              "[<regex.Match object; span=(0, 2), match='En'>,\n",
              " <regex.Match object; span=(3, 7), match='gång'>,\n",
              " <regex.Match object; span=(8, 12), match='hade'>,\n",
              " <regex.Match object; span=(13, 15), match='de'>,\n",
              " <regex.Match object; span=(16, 18), match='på'>,\n",
              " <regex.Match object; span=(19, 27), match='Mårbacka'>,\n",
              " <regex.Match object; span=(28, 30), match='en'>,\n",
              " <regex.Match object; span=(31, 39), match='barnpiga'>,\n",
              " <regex.Match object; span=(41, 44), match='som'>,\n",
              " <regex.Match object; span=(45, 50), match='hette'>,\n",
              " <regex.Match object; span=(51, 55), match='Back'>,\n",
              " <regex.Match object; span=(56, 61), match='Kajsa'>]"
            ]
          },
          "metadata": {},
          "execution_count": 47
        }
      ],
      "source": [
        "tokens = tokenize('En gång hade de på Mårbacka en barnpiga, som hette Back-Kajsa.')\n",
        "list(tokens)"
      ]
    },
    {
      "cell_type": "markdown",
      "metadata": {
        "id": "q6_f43rjSV7-"
      },
      "source": [
        "#### Extracting indices"
      ]
    },
    {
      "cell_type": "markdown",
      "metadata": {
        "id": "ufS1SHv5SV7-"
      },
      "source": [
        "Write a `text_to_idx(words)` function to extract the indices from the list of tokens (words). Return a dictionary, where the keys will be the tokens (words), and the values a list of positions."
      ]
    },
    {
      "cell_type": "code",
      "execution_count": 59,
      "metadata": {
        "id": "GxloAK4MSV7-"
      },
      "outputs": [],
      "source": [
        "# Write your code here\n",
        "def text_to_idx(words):\n",
        "  idx = {}\n",
        "\n",
        "  for m in words:\n",
        "    if m.group() in idx:\n",
        "      idx[m.group()].append(m.span()[0])\n",
        "    else:\n",
        "      idx[m.group()] = [m.span()[0]]\n",
        "\n",
        "  return idx\n"
      ]
    },
    {
      "cell_type": "code",
      "execution_count": 60,
      "metadata": {
        "colab": {
          "base_uri": "https://localhost:8080/"
        },
        "id": "qQ1oxl8ASV7-",
        "outputId": "1fc1dcd5-ac7e-45b0-a141-3f1afd69163c"
      },
      "outputs": [
        {
          "output_type": "execute_result",
          "data": {
            "text/plain": [
              "{'en': [0, 28],\n",
              " 'gång': [3],\n",
              " 'hade': [8],\n",
              " 'de': [13],\n",
              " 'på': [16],\n",
              " 'mårbacka': [19],\n",
              " 'barnpiga': [31],\n",
              " 'som': [41],\n",
              " 'hette': [45],\n",
              " 'back': [51],\n",
              " 'kajsa': [56]}"
            ]
          },
          "metadata": {},
          "execution_count": 60
        }
      ],
      "source": [
        "tokens = tokenize('En gång hade de på Mårbacka en barnpiga, som hette Back-Kajsa.'.lower().strip())\n",
        "text_to_idx(tokens)"
      ]
    },
    {
      "cell_type": "markdown",
      "metadata": {
        "id": "tHO2QtG2SV7_"
      },
      "source": [
        "#### Reading one file"
      ]
    },
    {
      "cell_type": "markdown",
      "metadata": {
        "id": "v45qAmX9SV7_"
      },
      "source": [
        "Read one file, _Mårbacka_, `marbacka.txt`, set it in lowercase, tokenize it, and index it. Call this index `idx`"
      ]
    },
    {
      "cell_type": "code",
      "execution_count": null,
      "metadata": {
        "id": "zwLaAmEGSV7_"
      },
      "outputs": [],
      "source": [
        "# Write your code here\n",
        "idx = {}\n",
        "with open(\"filename.txt\", \"r\") as f:\n",
        "  data = f.read().strip().lower()\n",
        "  idx = text_to_idx(tokenize(data))"
      ]
    },
    {
      "cell_type": "code",
      "execution_count": null,
      "metadata": {
        "id": "6UkWR_dNSV7_",
        "outputId": "d679b164-3633-49bb-cd56-362571531e96"
      },
      "outputs": [
        {
          "data": {
            "text/plain": [
              "[16,\n",
              " 139,\n",
              " 752,\n",
              " 1700,\n",
              " 2582,\n",
              " 3324,\n",
              " 15117,\n",
              " 15404,\n",
              " 27794,\n",
              " 42175,\n",
              " 49126,\n",
              " 50407,\n",
              " 52053,\n",
              " 60144,\n",
              " 63374,\n",
              " 64910,\n",
              " 67182,\n",
              " 67330,\n",
              " 67799,\n",
              " 67824,\n",
              " 69232,\n",
              " 71328,\n",
              " 72099,\n",
              " 74147,\n",
              " 74255,\n",
              " 74614,\n",
              " 76610,\n",
              " 76884,\n",
              " 77138,\n",
              " 77509,\n",
              " 77787,\n",
              " 77936,\n",
              " 78574,\n",
              " 80597,\n",
              " 81782,\n",
              " 82003,\n",
              " 84363,\n",
              " 84786,\n",
              " 85251,\n",
              " 89837,\n",
              " 97093,\n",
              " 98642,\n",
              " 100474,\n",
              " 105063,\n",
              " 105298,\n",
              " 105721,\n",
              " 108710,\n",
              " 109133,\n",
              " 112844,\n",
              " 113725,\n",
              " 114997,\n",
              " 115583,\n",
              " 115833,\n",
              " 116368,\n",
              " 116557,\n",
              " 121896,\n",
              " 124823,\n",
              " 126409,\n",
              " 126542,\n",
              " 128758,\n",
              " 130976,\n",
              " 131939,\n",
              " 132826,\n",
              " 136914,\n",
              " 137187,\n",
              " 137872,\n",
              " 139196,\n",
              " 140721,\n",
              " 142324,\n",
              " 146781,\n",
              " 151497,\n",
              " 154335,\n",
              " 155139,\n",
              " 155438,\n",
              " 155886,\n",
              " 156405,\n",
              " 158108,\n",
              " 159817,\n",
              " 160107,\n",
              " 161158,\n",
              " 162085,\n",
              " 165847,\n",
              " 168316,\n",
              " 168528,\n",
              " 169111,\n",
              " 170333,\n",
              " 172684,\n",
              " 182047,\n",
              " 182427,\n",
              " 186362,\n",
              " 189535,\n",
              " 190999,\n",
              " 191110,\n",
              " 193177,\n",
              " 196686,\n",
              " 202552,\n",
              " 206340,\n",
              " 207789,\n",
              " 208382,\n",
              " 209874,\n",
              " 210525,\n",
              " 217464,\n",
              " 219933,\n",
              " 221393,\n",
              " 221533,\n",
              " 221880,\n",
              " 222213,\n",
              " 224190,\n",
              " 229501,\n",
              " 229598,\n",
              " 230783,\n",
              " 231453,\n",
              " 232140,\n",
              " 234427,\n",
              " 236193,\n",
              " 236950,\n",
              " 240168,\n",
              " 241891,\n",
              " 242359,\n",
              " 242934,\n",
              " 243030,\n",
              " 244831,\n",
              " 249882,\n",
              " 251277,\n",
              " 251901,\n",
              " 256360,\n",
              " 260244,\n",
              " 261612,\n",
              " 262384,\n",
              " 263856,\n",
              " 266638,\n",
              " 269760,\n",
              " 270113,\n",
              " 270674,\n",
              " 271146,\n",
              " 271885,\n",
              " 272560,\n",
              " 273464,\n",
              " 275086,\n",
              " 275664,\n",
              " 276207,\n",
              " 277407,\n",
              " 292648,\n",
              " 299762,\n",
              " 306277,\n",
              " 307507,\n",
              " 307972,\n",
              " 308148,\n",
              " 308330,\n",
              " 308568,\n",
              " 311856,\n",
              " 317491,\n",
              " 321194,\n",
              " 321925,\n",
              " 328154,\n",
              " 328470,\n",
              " 328977,\n",
              " 330435,\n",
              " 331650,\n",
              " 337494,\n",
              " 340526,\n",
              " 348636,\n",
              " 349331,\n",
              " 350022,\n",
              " 350168,\n",
              " 350674,\n",
              " 350949,\n",
              " 351349,\n",
              " 354175,\n",
              " 354411,\n",
              " 356314,\n",
              " 356541,\n",
              " 356788,\n",
              " 357522,\n",
              " 358413,\n",
              " 359478,\n",
              " 360511,\n",
              " 362108,\n",
              " 363675,\n",
              " 364467,\n",
              " 365049,\n",
              " 366954,\n",
              " 367286,\n",
              " 367741,\n",
              " 368878,\n",
              " 369487,\n",
              " 373757,\n",
              " 377123,\n",
              " 378852,\n",
              " 379696]"
            ]
          },
          "execution_count": 10,
          "metadata": {},
          "output_type": "execute_result"
        }
      ],
      "source": [
        "idx['mårbacka']"
      ]
    },
    {
      "cell_type": "markdown",
      "metadata": {
        "id": "5BHdTmUSSV7_"
      },
      "source": [
        "#### Saving the index"
      ]
    },
    {
      "cell_type": "markdown",
      "metadata": {
        "id": "V1xfoENSSV7_"
      },
      "source": [
        "Save your index in a file so that you can reuse it. Use the pickle module."
      ]
    },
    {
      "cell_type": "code",
      "execution_count": null,
      "metadata": {
        "id": "_kCaziXWSV7_"
      },
      "outputs": [],
      "source": [
        "# Write your code here\n",
        "index_file = 'marbacka.idx'\n"
      ]
    },
    {
      "cell_type": "markdown",
      "metadata": {
        "id": "OIWXts14SV7_"
      },
      "source": [
        "Read back your file and store the content in `idx`"
      ]
    },
    {
      "cell_type": "code",
      "execution_count": null,
      "metadata": {
        "id": "VYAa9ATASV7_"
      },
      "outputs": [],
      "source": [
        "# Write your code here\n",
        "idx ="
      ]
    },
    {
      "cell_type": "code",
      "execution_count": null,
      "metadata": {
        "id": "Sxn3ThjMSV7_",
        "outputId": "c4d2285f-20d1-40e6-a45a-e6389a46d03d"
      },
      "outputs": [
        {
          "data": {
            "text/plain": [
              "[16,\n",
              " 139,\n",
              " 752,\n",
              " 1700,\n",
              " 2582,\n",
              " 3324,\n",
              " 15117,\n",
              " 15404,\n",
              " 27794,\n",
              " 42175,\n",
              " 49126,\n",
              " 50407,\n",
              " 52053,\n",
              " 60144,\n",
              " 63374,\n",
              " 64910,\n",
              " 67182,\n",
              " 67330,\n",
              " 67799,\n",
              " 67824,\n",
              " 69232,\n",
              " 71328,\n",
              " 72099,\n",
              " 74147,\n",
              " 74255,\n",
              " 74614,\n",
              " 76610,\n",
              " 76884,\n",
              " 77138,\n",
              " 77509,\n",
              " 77787,\n",
              " 77936,\n",
              " 78574,\n",
              " 80597,\n",
              " 81782,\n",
              " 82003,\n",
              " 84363,\n",
              " 84786,\n",
              " 85251,\n",
              " 89837,\n",
              " 97093,\n",
              " 98642,\n",
              " 100474,\n",
              " 105063,\n",
              " 105298,\n",
              " 105721,\n",
              " 108710,\n",
              " 109133,\n",
              " 112844,\n",
              " 113725,\n",
              " 114997,\n",
              " 115583,\n",
              " 115833,\n",
              " 116368,\n",
              " 116557,\n",
              " 121896,\n",
              " 124823,\n",
              " 126409,\n",
              " 126542,\n",
              " 128758,\n",
              " 130976,\n",
              " 131939,\n",
              " 132826,\n",
              " 136914,\n",
              " 137187,\n",
              " 137872,\n",
              " 139196,\n",
              " 140721,\n",
              " 142324,\n",
              " 146781,\n",
              " 151497,\n",
              " 154335,\n",
              " 155139,\n",
              " 155438,\n",
              " 155886,\n",
              " 156405,\n",
              " 158108,\n",
              " 159817,\n",
              " 160107,\n",
              " 161158,\n",
              " 162085,\n",
              " 165847,\n",
              " 168316,\n",
              " 168528,\n",
              " 169111,\n",
              " 170333,\n",
              " 172684,\n",
              " 182047,\n",
              " 182427,\n",
              " 186362,\n",
              " 189535,\n",
              " 190999,\n",
              " 191110,\n",
              " 193177,\n",
              " 196686,\n",
              " 202552,\n",
              " 206340,\n",
              " 207789,\n",
              " 208382,\n",
              " 209874,\n",
              " 210525,\n",
              " 217464,\n",
              " 219933,\n",
              " 221393,\n",
              " 221533,\n",
              " 221880,\n",
              " 222213,\n",
              " 224190,\n",
              " 229501,\n",
              " 229598,\n",
              " 230783,\n",
              " 231453,\n",
              " 232140,\n",
              " 234427,\n",
              " 236193,\n",
              " 236950,\n",
              " 240168,\n",
              " 241891,\n",
              " 242359,\n",
              " 242934,\n",
              " 243030,\n",
              " 244831,\n",
              " 249882,\n",
              " 251277,\n",
              " 251901,\n",
              " 256360,\n",
              " 260244,\n",
              " 261612,\n",
              " 262384,\n",
              " 263856,\n",
              " 266638,\n",
              " 269760,\n",
              " 270113,\n",
              " 270674,\n",
              " 271146,\n",
              " 271885,\n",
              " 272560,\n",
              " 273464,\n",
              " 275086,\n",
              " 275664,\n",
              " 276207,\n",
              " 277407,\n",
              " 292648,\n",
              " 299762,\n",
              " 306277,\n",
              " 307507,\n",
              " 307972,\n",
              " 308148,\n",
              " 308330,\n",
              " 308568,\n",
              " 311856,\n",
              " 317491,\n",
              " 321194,\n",
              " 321925,\n",
              " 328154,\n",
              " 328470,\n",
              " 328977,\n",
              " 330435,\n",
              " 331650,\n",
              " 337494,\n",
              " 340526,\n",
              " 348636,\n",
              " 349331,\n",
              " 350022,\n",
              " 350168,\n",
              " 350674,\n",
              " 350949,\n",
              " 351349,\n",
              " 354175,\n",
              " 354411,\n",
              " 356314,\n",
              " 356541,\n",
              " 356788,\n",
              " 357522,\n",
              " 358413,\n",
              " 359478,\n",
              " 360511,\n",
              " 362108,\n",
              " 363675,\n",
              " 364467,\n",
              " 365049,\n",
              " 366954,\n",
              " 367286,\n",
              " 367741,\n",
              " 368878,\n",
              " 369487,\n",
              " 373757,\n",
              " 377123,\n",
              " 378852,\n",
              " 379696]"
            ]
          },
          "execution_count": 13,
          "metadata": {},
          "output_type": "execute_result"
        }
      ],
      "source": [
        "idx['mårbacka']"
      ]
    },
    {
      "cell_type": "markdown",
      "metadata": {
        "id": "8AMfGZCrSV7_"
      },
      "source": [
        "### Reading the content of a folder"
      ]
    },
    {
      "cell_type": "markdown",
      "metadata": {
        "id": "sE1CgOW-SV7_"
      },
      "source": [
        "Write a `get_files(dir, suffix)` function that reads all the files in a folder with a specific `suffix` (txt). You will need the Python `os` package, see <a href=\"https://docs.python.org/3/library/os.html\">https://docs.python.org/3/library/os.html</a>. You will return the file names in a list."
      ]
    },
    {
      "cell_type": "markdown",
      "metadata": {
        "id": "fiubdMSWSV7_"
      },
      "source": [
        "You can reuse this function:"
      ]
    },
    {
      "cell_type": "code",
      "execution_count": null,
      "metadata": {
        "id": "-0JMvEUcSV7_"
      },
      "outputs": [],
      "source": [
        "def get_files(dir, suffix):\n",
        "    \"\"\"\n",
        "    Returns all the files in a folder ending with suffix\n",
        "    :param dir:\n",
        "    :param suffix:\n",
        "    :return: the list of file names\n",
        "    \"\"\"\n",
        "    files = []\n",
        "    for file in os.listdir(dir):\n",
        "        if file.endswith(suffix):\n",
        "            files.append(file)\n",
        "    return files"
      ]
    },
    {
      "cell_type": "code",
      "execution_count": null,
      "metadata": {
        "id": "A9Ou7CBhSV7_",
        "outputId": "d813cd0f-1e9b-4287-c652-031d17a3cad6"
      },
      "outputs": [
        {
          "data": {
            "text/plain": [
              "['troll.txt',\n",
              " 'kejsaren.txt',\n",
              " 'marbacka.txt',\n",
              " 'herrgard.txt',\n",
              " 'nils.txt',\n",
              " 'osynliga.txt',\n",
              " 'jerusalem.txt',\n",
              " 'bannlyst.txt',\n",
              " 'gosta.txt']"
            ]
          },
          "execution_count": 15,
          "metadata": {},
          "output_type": "execute_result"
        }
      ],
      "source": [
        "# Write your code here\n"
      ]
    },
    {
      "cell_type": "markdown",
      "metadata": {
        "id": "1EuBgPOzSV7_"
      },
      "source": [
        "### Creating a master index"
      ]
    },
    {
      "cell_type": "markdown",
      "metadata": {
        "id": "Abltbp7KSV7_"
      },
      "source": [
        "Complete your program with the creation of master index, where you will associate each word of the corpus with the files, where it occur and its positions: a posting list\n",
        "Below is an except of the master index with the words <i>samlar</i> and <i>ände</i>:"
      ]
    },
    {
      "cell_type": "code",
      "execution_count": null,
      "metadata": {
        "id": "akiY-fi0SV7_",
        "outputId": "5244c31f-ac9b-4522-ce14-8ab8be5c4380"
      },
      "outputs": [
        {
          "data": {
            "text/plain": [
              "{'samlar': {'troll.txt': [641880, 654233],\n",
              "  'nils.txt': [51805, 118943],\n",
              "  'osynliga.txt': [399121],\n",
              "  'gosta.txt': [313784, 409998, 538165]},\n",
              " 'ände': {'troll.txt': [39562, 650112],\n",
              "  'kejsaren.txt': [50171],\n",
              "  'marbacka.txt': [370324],\n",
              "  'nils.txt': [1794],\n",
              "  'osynliga.txt': [272144]}}"
            ]
          },
          "execution_count": 16,
          "metadata": {},
          "output_type": "execute_result"
        }
      ],
      "source": [
        "{'samlar':\n",
        "            {'troll.txt': [641880, 654233],\n",
        "            'nils.txt': [51805, 118943],\n",
        "            'osynliga.txt': [399121],\n",
        "            'gosta.txt': [313784, 409998, 538165]},\n",
        " 'ände':\n",
        "            {'troll.txt': [39562, 650112],\n",
        "            'kejsaren.txt': [50171],\n",
        "            'marbacka.txt': [370324],\n",
        "            'nils.txt': [1794],\n",
        "            'osynliga.txt': [272144]}\n",
        "}"
      ]
    },
    {
      "cell_type": "markdown",
      "metadata": {
        "id": "P6UbgwB2SV7_"
      },
      "source": [
        "The word <i>samlar</i>, for instance, occurs three times in the gosta text at positions\n",
        "            313784, 409998, and 538165."
      ]
    },
    {
      "cell_type": "code",
      "execution_count": null,
      "metadata": {
        "id": "fKXYfAfsSV7_"
      },
      "outputs": [],
      "source": [
        "# write your code here\n",
        "master_index = {}\n",
        "for file in corpus_files:\n"
      ]
    },
    {
      "cell_type": "code",
      "execution_count": null,
      "metadata": {
        "id": "sRrU_Y3NSV7_",
        "outputId": "ae670548-93cb-438c-ebbb-6adb7320af69"
      },
      "outputs": [
        {
          "data": {
            "text/plain": [
              "{'troll.txt': [641880, 654233],\n",
              " 'nils.txt': [51805, 118943],\n",
              " 'osynliga.txt': [399121],\n",
              " 'gosta.txt': [313784, 409998, 538165]}"
            ]
          },
          "execution_count": 18,
          "metadata": {},
          "output_type": "execute_result"
        }
      ],
      "source": [
        "master_index['samlar']"
      ]
    },
    {
      "cell_type": "code",
      "execution_count": null,
      "metadata": {
        "id": "hTnB9Q50SV7_",
        "outputId": "e8b8b567-80be-41dc-a2c2-e358a8646f66"
      },
      "outputs": [
        {
          "data": {
            "text/plain": [
              "{'troll.txt': [226291, 387634, 392959],\n",
              " 'marbacka.txt': [16,\n",
              "  139,\n",
              "  752,\n",
              "  1700,\n",
              "  2582,\n",
              "  3324,\n",
              "  15117,\n",
              "  15404,\n",
              "  27794,\n",
              "  42175,\n",
              "  49126,\n",
              "  50407,\n",
              "  52053,\n",
              "  60144,\n",
              "  63374,\n",
              "  64910,\n",
              "  67182,\n",
              "  67330,\n",
              "  67799,\n",
              "  67824,\n",
              "  69232,\n",
              "  71328,\n",
              "  72099,\n",
              "  74147,\n",
              "  74255,\n",
              "  74614,\n",
              "  76610,\n",
              "  76884,\n",
              "  77138,\n",
              "  77509,\n",
              "  77787,\n",
              "  77936,\n",
              "  78574,\n",
              "  80597,\n",
              "  81782,\n",
              "  82003,\n",
              "  84363,\n",
              "  84786,\n",
              "  85251,\n",
              "  89837,\n",
              "  97093,\n",
              "  98642,\n",
              "  100474,\n",
              "  105063,\n",
              "  105298,\n",
              "  105721,\n",
              "  108710,\n",
              "  109133,\n",
              "  112844,\n",
              "  113725,\n",
              "  114997,\n",
              "  115583,\n",
              "  115833,\n",
              "  116368,\n",
              "  116557,\n",
              "  121896,\n",
              "  124823,\n",
              "  126409,\n",
              "  126542,\n",
              "  128758,\n",
              "  130976,\n",
              "  131939,\n",
              "  132826,\n",
              "  136914,\n",
              "  137187,\n",
              "  137872,\n",
              "  139196,\n",
              "  140721,\n",
              "  142324,\n",
              "  146781,\n",
              "  151497,\n",
              "  154335,\n",
              "  155139,\n",
              "  155438,\n",
              "  155886,\n",
              "  156405,\n",
              "  158108,\n",
              "  159817,\n",
              "  160107,\n",
              "  161158,\n",
              "  162085,\n",
              "  165847,\n",
              "  168316,\n",
              "  168528,\n",
              "  169111,\n",
              "  170333,\n",
              "  172684,\n",
              "  182047,\n",
              "  182427,\n",
              "  186362,\n",
              "  189535,\n",
              "  190999,\n",
              "  191110,\n",
              "  193177,\n",
              "  196686,\n",
              "  202552,\n",
              "  206340,\n",
              "  207789,\n",
              "  208382,\n",
              "  209874,\n",
              "  210525,\n",
              "  217464,\n",
              "  219933,\n",
              "  221393,\n",
              "  221533,\n",
              "  221880,\n",
              "  222213,\n",
              "  224190,\n",
              "  229501,\n",
              "  229598,\n",
              "  230783,\n",
              "  231453,\n",
              "  232140,\n",
              "  234427,\n",
              "  236193,\n",
              "  236950,\n",
              "  240168,\n",
              "  241891,\n",
              "  242359,\n",
              "  242934,\n",
              "  243030,\n",
              "  244831,\n",
              "  249882,\n",
              "  251277,\n",
              "  251901,\n",
              "  256360,\n",
              "  260244,\n",
              "  261612,\n",
              "  262384,\n",
              "  263856,\n",
              "  266638,\n",
              "  269760,\n",
              "  270113,\n",
              "  270674,\n",
              "  271146,\n",
              "  271885,\n",
              "  272560,\n",
              "  273464,\n",
              "  275086,\n",
              "  275664,\n",
              "  276207,\n",
              "  277407,\n",
              "  292648,\n",
              "  299762,\n",
              "  306277,\n",
              "  307507,\n",
              "  307972,\n",
              "  308148,\n",
              "  308330,\n",
              "  308568,\n",
              "  311856,\n",
              "  317491,\n",
              "  321194,\n",
              "  321925,\n",
              "  328154,\n",
              "  328470,\n",
              "  328977,\n",
              "  330435,\n",
              "  331650,\n",
              "  337494,\n",
              "  340526,\n",
              "  348636,\n",
              "  349331,\n",
              "  350022,\n",
              "  350168,\n",
              "  350674,\n",
              "  350949,\n",
              "  351349,\n",
              "  354175,\n",
              "  354411,\n",
              "  356314,\n",
              "  356541,\n",
              "  356788,\n",
              "  357522,\n",
              "  358413,\n",
              "  359478,\n",
              "  360511,\n",
              "  362108,\n",
              "  363675,\n",
              "  364467,\n",
              "  365049,\n",
              "  366954,\n",
              "  367286,\n",
              "  367741,\n",
              "  368878,\n",
              "  369487,\n",
              "  373757,\n",
              "  377123,\n",
              "  378852,\n",
              "  379696],\n",
              " 'nils.txt': [991703]}"
            ]
          },
          "execution_count": 19,
          "metadata": {},
          "output_type": "execute_result"
        }
      ],
      "source": [
        "master_index['mårbacka']"
      ]
    },
    {
      "cell_type": "markdown",
      "metadata": {
        "id": "auHNCqBGSV7_"
      },
      "source": [
        "Save your master index in a file and read it again"
      ]
    },
    {
      "cell_type": "code",
      "execution_count": null,
      "metadata": {
        "id": "ImHHLNl8SV7_"
      },
      "outputs": [],
      "source": [
        "# Write your code here\n"
      ]
    },
    {
      "cell_type": "code",
      "execution_count": null,
      "metadata": {
        "id": "uV-UnHdKSV8A",
        "outputId": "a3dc43c4-cadb-468c-90bd-f7daa189403a"
      },
      "outputs": [
        {
          "data": {
            "text/plain": [
              "{'troll.txt': [641880, 654233],\n",
              " 'nils.txt': [51805, 118943],\n",
              " 'osynliga.txt': [399121],\n",
              " 'gosta.txt': [313784, 409998, 538165]}"
            ]
          },
          "execution_count": 21,
          "metadata": {},
          "output_type": "execute_result"
        }
      ],
      "source": [
        "master_index['samlar']"
      ]
    },
    {
      "cell_type": "markdown",
      "metadata": {
        "id": "kFWNAGQRSV8A"
      },
      "source": [
        "#### Concordances"
      ]
    },
    {
      "cell_type": "markdown",
      "metadata": {
        "id": "i8ScoBKdSV8A"
      },
      "source": [
        "Write a `concordance(word, master_index, window)` function to extract the concordances of a `word` within a window of `window` characters"
      ]
    },
    {
      "cell_type": "code",
      "execution_count": null,
      "metadata": {
        "id": "UYnhkWTJSV8A"
      },
      "outputs": [],
      "source": [
        "# Write your code here\n",
        "def concordance(word, master_index, window):\n",
        ""
      ]
    },
    {
      "cell_type": "code",
      "execution_count": null,
      "metadata": {
        "id": "mVQWqWxaSV8A",
        "outputId": "71280768-ad82-4a2c-a5d3-c8df86f7dbdb"
      },
      "outputs": [
        {
          "name": "stdout",
          "output_type": "stream",
          "text": [
            "troll.txt\n",
            "\ten örtkunnig läkare, som samlar in markens växter \n",
            "\tälper dem, och medan hon samlar och handlar för de\n",
            "nils.txt\n",
            "\t bara, att du i all hast samlar ihop så mycket bos\n",
            "\tar stannat hemma, och nu samlar de sig för att int\n",
            "osynliga.txt\n",
            "\t till höger i kärran och samlar just ihop tömmarna\n",
            "gosta.txt\n",
            "\tom ligger nära borg, och samlar ihop ett litet mid\n",
            "\tlika förstämda.  men hon samlar upp allt detta som\n",
            "\tn ensam i livet.  därmed samlar han korten tillhop\n"
          ]
        }
      ],
      "source": [
        "concordance('samlar', master_index, 25)"
      ]
    },
    {
      "cell_type": "markdown",
      "metadata": {
        "id": "qLfcceQgSV8A"
      },
      "source": [
        "### Representing Documents with tf-idf"
      ]
    },
    {
      "cell_type": "markdown",
      "metadata": {
        "id": "TBgx5Bi5SV8A"
      },
      "source": [
        "Once you have created the index, you will represent each document in your corpus as a dictionary. The keys of these dictionaries will be the words and you will define the value of a word with the tf-idf metric:\n",
        "1. Read the description of the tf-idf measure on Wikipedia (<a href=\"https://en.wikipedia.org/wiki/Tf%E2%80%93idf\">https://en.wikipedia.org/wiki/Tf-idf</a>)\n",
        "2. After reading the description, you probably realized that there are multiple definitions of tf-idf. In this assignment,\n",
        " * Tf will be the relative frequency of the term in the document and\n",
        " * idf, the logarithm base 10 of the inverse document frequency.\n",
        "        \n",
        "You have below the tf-idf values for a few words. In our example, the word <i>gås</i> has the value 0 in bannlyst.txt and the value 0.000101001964 in nils.txt\n",
        "\n",
        "<pre>\n",
        "troll.txt\n",
        "\tkänna\t 0.0\n",
        "\tgås\t 0.0\n",
        "\tnils\t 2.148161748868631e-06\n",
        "\tet\t 0.0\n",
        "kejsaren.txt\n",
        "\tkänna\t 0.0\n",
        "\tgås\t 0.0\n",
        "\tnils\t 8.08284798629935e-06\n",
        "\tet\t 8.273225429362848e-05\n",
        "marbacka.txt\n",
        "\tkänna\t 0.0\n",
        "\tgås\t 0.0\n",
        "\tnils\t 7.582276564686669e-06\n",
        "\tet\t 9.70107989686256e-06\n",
        "herrgard.txt\n",
        "\tkänna\t 0.0\n",
        "\tgås\t 0.0\n",
        "\tnils\t 0.0\n",
        "\tet\t 0.0\n",
        "nils.txt\n",
        "\tkänna\t 0.0\n",
        "\tgås\t 0.00010100196417506702\n",
        "\tnils\t 0.00010164426900380124\n",
        "\tet\t 0.0\n",
        "osynliga.txt\n",
        "\tkänna\t 0.0\n",
        "\tgås\t 0.0\n",
        "\tnils\t 0.0\n",
        "\tet\t 0.0\n",
        "jerusalem.txt\n",
        "\tkänna\t 0.0\n",
        "\tgås\t 0.0\n",
        "\tnils\t 4.968292117670952e-06\n",
        "\tet\t 0.0\n",
        "bannlyst.txt\n",
        "\tkänna\t 0.0\n",
        "\tgås\t 0.0\n",
        "\tnils\t 0.0\n",
        "\tet\t 0.0\n",
        "gosta.txt\n",
        "\tkänna\t 0.0\n",
        "\tgås\t 0.0\n",
        "\tnils\t 0.0\n",
        "\tet\t 0.0\n",
        "</pre>"
      ]
    },
    {
      "cell_type": "markdown",
      "metadata": {
        "id": "5oebtEwPSV8A"
      },
      "source": [
        "Conceptually, the tf-idf representation is a vector. In your program, you will keep this idea and use all the words in the corpus as keys: Each dictionary will include all the words of the corpus as keys. The value of the key is then possibly 0, meaning that the word in not in the document or is in all the documents as for the word `nils` in `gosta.tx`.\n",
        "\n",
        "As further work, you may think of optimizing this part."
      ]
    },
    {
      "cell_type": "code",
      "execution_count": null,
      "metadata": {
        "id": "vTvxiplRSV8A"
      },
      "outputs": [],
      "source": [
        "# Write your code here\n",
        "tfidf = {}\n",
        "for file in corpus_files:\n"
      ]
    },
    {
      "cell_type": "code",
      "execution_count": null,
      "metadata": {
        "id": "TsbZ4lcMSV8A",
        "outputId": "977ba537-1d18-475b-8d92-769f72f6abea"
      },
      "outputs": [
        {
          "data": {
            "text/plain": [
              "0.0"
            ]
          },
          "execution_count": 25,
          "metadata": {},
          "output_type": "execute_result"
        }
      ],
      "source": [
        "tfidf['troll.txt']['känna']"
      ]
    },
    {
      "cell_type": "code",
      "execution_count": null,
      "metadata": {
        "id": "TQWm3HAqSV8A",
        "outputId": "8c300ba6-82d6-4a8a-83f6-62d58b82b6b1"
      },
      "outputs": [
        {
          "data": {
            "text/plain": [
              "2.148161748868631e-06"
            ]
          },
          "execution_count": 26,
          "metadata": {},
          "output_type": "execute_result"
        }
      ],
      "source": [
        "tfidf['troll.txt']['nils']"
      ]
    },
    {
      "cell_type": "markdown",
      "metadata": {
        "id": "0yTbHMjMSV8A"
      },
      "source": [
        "### Comparing Documents"
      ]
    },
    {
      "cell_type": "markdown",
      "metadata": {
        "id": "YaBqv11zSV8A"
      },
      "source": [
        "Using the cosine similarity, compare all the pairs of documents with their tf-idf representation and present your results in a table. You will include this table in your report."
      ]
    },
    {
      "cell_type": "markdown",
      "metadata": {
        "id": "unqdEue7SV8A"
      },
      "source": [
        "#### Cosine similarity"
      ]
    },
    {
      "cell_type": "markdown",
      "metadata": {
        "id": "QlkBM9GmSV8A"
      },
      "source": [
        "Write a function computing the cosine similarity between two documents: `cosine_similarity(document1, document2)`"
      ]
    },
    {
      "cell_type": "code",
      "execution_count": null,
      "metadata": {
        "id": "A6JwWHE9SV8A"
      },
      "outputs": [],
      "source": [
        "# Write your code here\n",
        "def cosine_similarity(document1, document2):\n",
        ""
      ]
    },
    {
      "cell_type": "markdown",
      "metadata": {
        "id": "oT-spsgoSV8A"
      },
      "source": [
        "#### Similarity matrix"
      ]
    },
    {
      "cell_type": "markdown",
      "metadata": {
        "id": "X8orqON0SV8A"
      },
      "source": [
        "Compute the similarity matrix between the documents of the corpus. While computing the similarities, you will record the two most similar documents that you will call `most_sim_doc1` and `most_sim_doc2`."
      ]
    },
    {
      "cell_type": "code",
      "execution_count": null,
      "metadata": {
        "id": "5xjQbMvlSV8A",
        "outputId": "60d9b591-40a1-43ae-e000-cc609002a277"
      },
      "outputs": [
        {
          "name": "stdout",
          "output_type": "stream",
          "text": [
            "['troll.txt', 'kejsaren.txt', 'marbacka.txt', 'herrgard.txt', 'nils.txt', 'osynliga.txt', 'jerusalem.txt', 'bannlyst.txt', 'gosta.txt']\n",
            "troll.txt\t1.0000\t0.1813\t0.1472\t0.0041\t0.1885\t0.1926\t0.0071\t0.0886\t0.1957\t\n",
            "kejsaren.txt\t0.1813\t1.0000\t0.0711\t0.0007\t0.0497\t0.0511\t0.0018\t0.0240\t0.0480\t\n",
            "marbacka.txt\t0.1472\t0.0711\t1.0000\t0.0036\t0.0847\t0.0932\t0.0049\t0.0368\t0.0802\t\n",
            "herrgard.txt\t0.0041\t0.0007\t0.0036\t1.0000\t0.0051\t0.0048\t0.3707\t0.0009\t0.0031\t\n",
            "nils.txt\t0.1885\t0.0497\t0.0847\t0.0051\t1.0000\t0.1106\t0.0045\t0.0510\t0.1048\t\n",
            "osynliga.txt\t0.1926\t0.0511\t0.0932\t0.0048\t0.1106\t1.0000\t0.0283\t0.0521\t0.1248\t\n",
            "jerusalem.txt\t0.0071\t0.0018\t0.0049\t0.3707\t0.0045\t0.0283\t1.0000\t0.0065\t0.0043\t\n",
            "bannlyst.txt\t0.0886\t0.0240\t0.0368\t0.0009\t0.0510\t0.0521\t0.0065\t1.0000\t0.0490\t\n",
            "gosta.txt\t0.1957\t0.0480\t0.0802\t0.0031\t0.1048\t0.1248\t0.0043\t0.0490\t1.0000\t\n"
          ]
        }
      ],
      "source": [
        "# Write your code here\n"
      ]
    },
    {
      "cell_type": "markdown",
      "metadata": {
        "id": "SHvPNSaCSV8A"
      },
      "source": [
        "Give the name of the two novels that are the most similar."
      ]
    },
    {
      "cell_type": "code",
      "execution_count": null,
      "metadata": {
        "id": "SfhC0JX7SV8A",
        "outputId": "04a07789-ecdc-4a89-da38-d0cce79ebe92"
      },
      "outputs": [
        {
          "name": "stdout",
          "output_type": "stream",
          "text": [
            "Most similar: herrgard.txt jerusalem.txt Similarity: 0.3706894238733847\n"
          ]
        }
      ],
      "source": [
        "print(\"Most similar:\", most_sim_doc1, most_sim_doc2, \"Similarity:\", max_similarity)"
      ]
    },
    {
      "cell_type": "markdown",
      "metadata": {
        "id": "fRAnMu-qSV8A"
      },
      "source": [
        "<h2>Turning in your assigment</h2>"
      ]
    },
    {
      "cell_type": "markdown",
      "metadata": {
        "id": "7q2BQgkISV8A"
      },
      "source": [
        "Now your are done with the program. To complete this assignment, you will:\n",
        "1. Write a short individual report on your program,\n",
        "2. Read the text <i>Challenges in Building Large-Scale Information Retrieval Systems</i> about the history of <a href=\"https://research.google.com/people/jeff/WSDM09-keynote.pdf\">Google indexing</a> by <a href=\"https://research.google.com/pubs/jeff.html\">Jeff Dean</a> and write a short comment on it. See the details below.\n",
        "3. Watch the speech delivered by Steve Jobs in 1985 (https://www.youtube.com/watch?v=NT6oUsn3ANA) and describe superficially in one paragraph how computers can amass knowledge and have dialogues with us.\n",
        "\n",
        "You will submit your report as well as your notebook (for archiving purposes) to Canvas: <https://canvas.education.lu.se/>. You have two separate places: one of the report and the other for the program.\n",
        "\n",
        "I suggest that you use this structure for your report:\n",
        "1. Objectives and dataset\n",
        "2. Method and program structure, where you should outline your program and possibly describe difficult parts.\n",
        "3. Results\n",
        "4. Conclusion\n",
        "5. Answer to possible questions\n",
        "\n",
        "In your report of about two pages:\n",
        "1. You will describe your indexer (Sect. Method) and comment your results (Sect. Result); in this description, you will write the regular expression you used for the tokenization (Sect. Method) and include the similarity matrix (Sect. Results);\n",
        "2. In Jeff Dean's document, slide 45 describes an indexing technique. Tell how your index encoding is related to what Google did. (Sect. Other questions).\n",
        "3. Referring to Jobs's speech, comment shortly how computers can amass knowledge and have dialogues with us.\n",
        "\n",
        "To write your report, use Latex. This is mandatory as it will help you structure your text. You will then upload a PDF file in Canvas. You can try Overleaf (<a href=\"https://www.overleaf.com/\">www.overleaf.com</a>) as it makes it easy to create Latex document.\n",
        "\n",
        "The submission deadline is September 19, 2025. You will have only three submission attempts. The deadline for the second and third ones are one week after you are noticed of your result."
      ]
    },
    {
      "cell_type": "markdown",
      "metadata": {
        "id": "5ervuENWSV8B"
      },
      "source": []
    }
  ],
  "metadata": {
    "kernelspec": {
      "display_name": "Python 3.9.12 ('base')",
      "language": "python",
      "name": "python3"
    },
    "language_info": {
      "codemirror_mode": {
        "name": "ipython",
        "version": 3
      },
      "file_extension": ".py",
      "mimetype": "text/x-python",
      "name": "python",
      "nbconvert_exporter": "python",
      "pygments_lexer": "ipython3",
      "version": "3.12.4"
    },
    "vscode": {
      "interpreter": {
        "hash": "b97b11a820675205aae8f1d7f2a3f22bbd3a2c30189f44042310baf5b4cd1987"
      }
    },
    "colab": {
      "provenance": []
    }
  },
  "nbformat": 4,
  "nbformat_minor": 0
}